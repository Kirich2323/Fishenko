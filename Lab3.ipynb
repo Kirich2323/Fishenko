{
 "cells": [
  {
   "cell_type": "code",
   "execution_count": 1,
   "metadata": {},
   "outputs": [
    {
     "name": "stderr",
     "output_type": "stream",
     "text": [
      "/usr/local/lib/python3.4/dist-packages/ipykernel_launcher.py:18: RuntimeWarning: covariance is not positive-semidefinite.\n"
     ]
    }
   ],
   "source": [
    "import random\n",
    "import matplotlib.pyplot as plt\n",
    "import numpy as np\n",
    "\n",
    "M = 10\n",
    "mu = [ random.uniform(0,1) for i in range(M)]\n",
    "B = np.resize([], (M, M))\n",
    "for i in range(M):\n",
    "    for j in range(i, M):\n",
    "        if i == j:\n",
    "            B[i][j] = 1\n",
    "        else:\n",
    "            B[i][j] = random.uniform(0, 1)\n",
    "            B[j][i] = B[i][j]\n",
    "sigma = np.diag([ random.uniform(0, 10) for i in range(M) ])\n",
    "B = np.matmul(np.matmul(sigma, B), sigma)\n",
    "\n",
    "rv = np.random.multivariate_normal(mu, B)"
   ]
  },
  {
   "cell_type": "code",
   "execution_count": 2,
   "metadata": {},
   "outputs": [
    {
     "data": {
      "image/png": "[encoded data removed]",
      "text/plain": [
       "<matplotlib.figure.Figure at 0x7fbf040b7630>"
      ]
     },
     "metadata": {},
     "output_type": "display_data"
    }
   ],
   "source": [
    "from scipy.stats import multivariate_normal\n",
    "x, y = np.mgrid[-5:5:.01, -5:5:.01]\n",
    "x1 = 0\n",
    "x2 = 1\n",
    "pos = np.empty(x.shape + (2,))\n",
    "pos[:, :, 0] = x; pos[:, :, 1] = y\n",
    "cut = multivariate_normal([ mu[x1], mu[x2] ], [ [B[x1][x1], B[x1][x2]], [ B[x2][x1], B[x2][x2]] ])\n",
    "fig, ax = plt.subplots()\n",
    "cax = plt.contourf(x, y, cut.pdf(pos))\n",
    "cbar = fig.colorbar(cax, orientation='vertical')\n",
    "plt.show()\n",
    "#print(rv.rvs())"
   ]
  },
  {
   "cell_type": "code",
   "execution_count": 3,
   "metadata": {},
   "outputs": [],
   "source": [
    "N = 1000 #todo input\n",
    "samples = [ cut.rvs() for i in range(N) ]"
   ]
  },
  {
   "cell_type": "code",
   "execution_count": 4,
   "metadata": {},
   "outputs": [],
   "source": [
    "def save_to_file(filename, arr):\n",
    "    file = open(filename, 'w')\n",
    "    for i in arr:\n",
    "        for j in i:\n",
    "            file.write(str(j) + ' ')\n",
    "        file.write(\"\\n\")\n",
    "\n",
    "def load_from_file(filename):\n",
    "    data = open(filename, 'r').read().split(\"\\n\")\n",
    "    ans = []\n",
    "    for i in data:\n",
    "        ans.append( np.array(list(map( lambda x : float(x), i.split()))))\n",
    "    #print(data)\n",
    "    return ans\n",
    "\n",
    "save_to_file(\"lab3.log\", samples)\n",
    "loaded_samples = load_from_file(\"lab3.log\")"
   ]
  },
  {
   "cell_type": "code",
   "execution_count": null,
   "metadata": {},
   "outputs": [],
   "source": []
  }
 ],
 "metadata": {
  "kernelspec": {
   "display_name": "Python 3",
   "language": "python",
   "name": "python3"
  },
  "language_info": {
   "codemirror_mode": {
    "name": "ipython",
    "version": 3
   },
   "file_extension": ".py",
   "mimetype": "text/x-python",
   "name": "python",
   "nbconvert_exporter": "python",
   "pygments_lexer": "ipython3",
   "version": "3.4.3"
  }
 },
 "nbformat": 4,
 "nbformat_minor": 2
}
