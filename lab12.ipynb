{
 "cells": [
  {
   "cell_type": "code",
   "execution_count": 116,
   "metadata": {},
   "outputs": [],
   "source": [
    "import numpy as np\n",
    "import matplotlib.pyplot as plt\n",
    "import plotly.plotly as py\n",
    "import random\n",
    "from scipy.stats import skew, kurtosis, variation, moment\n",
    "import scipy.integrate as integrate\n",
    "from math import sqrt, exp, pi\n",
    "import math\n",
    "\n",
    "class ListTable(list):\n",
    "    \"\"\" Overridden list class which takes a 2-dimensional list of \n",
    "        the form [[1,2,3],[4,5,6]], and renders an HTML Table in \n",
    "        IPython Notebook. \"\"\"\n",
    "    \n",
    "    def _repr_html_(self):\n",
    "        html = [\"<table>\"]\n",
    "        for row in self:\n",
    "            html.append(\"<tr>\")\n",
    "            \n",
    "            for col in row:\n",
    "                html.append(\"<td>{0}</td>\".format(col))\n",
    "            \n",
    "            \n",
    "            html.append(\"</tr>\")\n",
    "        html.append(\"</table>\")\n",
    "        return ''.join(html)\n",
    "    \n",
    "    def __str__(self):\n",
    "        return self._repr_html_()\n",
    "\n",
    "def average(arr):\n",
    "    res = 0\n",
    "    for i in arr:\n",
    "        res += i\n",
    "    return res / len(arr)\n",
    "\n",
    "def std_sqrt_deviation(arr):\n",
    "    res = 0\n",
    "    avg = average(arr)\n",
    "    for i in arr:\n",
    "        res += (i - avg)**2\n",
    "    return sqrt(res / len(arr))"
   ]
  },
  {
   "cell_type": "code",
   "execution_count": 117,
   "metadata": {},
   "outputs": [
    {
     "name": "stdout",
     "output_type": "stream",
     "text": [
      "n = 10\n"
     ]
    },
    {
     "data": {
      "text/html": [
       "<table><tr><td>P</td><td>P*</td><td>Delta</td></tr><tr><td>0.078991596</td><td>0.0</td><td>0.078991596</td></tr><tr><td>0.078991596</td><td>0.3</td><td>-0.221008404</td></tr><tr><td>0.078991596</td><td>0.0</td><td>0.078991596</td></tr><tr><td>0.078991596</td><td>0.1</td><td>-0.02100840400000001</td></tr><tr><td>0.078991596</td><td>0.0</td><td>0.078991596</td></tr><tr><td>0.078991596</td><td>0.1</td><td>-0.02100840400000001</td></tr><tr><td>0.078991596</td><td>0.1</td><td>-0.02100840400000001</td></tr><tr><td>0.078991596</td><td>0.1</td><td>-0.02100840400000001</td></tr><tr><td>0.078991596</td><td>0.0</td><td>0.078991596</td></tr><tr><td>0.078991596</td><td>0.2</td><td>-0.12100840400000001</td></tr></table>"
      ],
      "text/plain": [
       "[['P', 'P*', 'Delta'],\n",
       " [0.078991596, 0.0, 0.078991596],\n",
       " [0.078991596, 0.3, -0.221008404],\n",
       " [0.078991596, 0.0, 0.078991596],\n",
       " [0.078991596, 0.1, -0.02100840400000001],\n",
       " [0.078991596, 0.0, 0.078991596],\n",
       " [0.078991596, 0.1, -0.02100840400000001],\n",
       " [0.078991596, 0.1, -0.02100840400000001],\n",
       " [0.078991596, 0.1, -0.02100840400000001],\n",
       " [0.078991596, 0.0, 0.078991596],\n",
       " [0.078991596, 0.2, -0.12100840400000001]]"
      ]
     },
     "metadata": {},
     "output_type": "display_data"
    },
    {
     "name": "stdout",
     "output_type": "stream",
     "text": [
      "sigma: -0.011008404000000005\n",
      "\n",
      "n = 100\n"
     ]
    },
    {
     "data": {
      "text/html": [
       "<table><tr><td>P</td><td>P*</td><td>Delta</td></tr><tr><td>0.078991596</td><td>0.08</td><td>-0.0010084040000000044</td></tr><tr><td>0.078991596</td><td>0.05</td><td>0.028991595999999994</td></tr><tr><td>0.078991596</td><td>0.07</td><td>0.00899159599999999</td></tr><tr><td>0.078991596</td><td>0.06</td><td>0.018991596</td></tr><tr><td>0.078991596</td><td>0.09</td><td>-0.011008404</td></tr><tr><td>0.078991596</td><td>0.09</td><td>-0.011008404</td></tr><tr><td>0.078991596</td><td>0.08</td><td>-0.0010084040000000044</td></tr><tr><td>0.078991596</td><td>0.09</td><td>-0.011008404</td></tr><tr><td>0.078991596</td><td>0.12</td><td>-0.041008404</td></tr><tr><td>0.078991596</td><td>0.05</td><td>0.028991595999999994</td></tr></table>"
      ],
      "text/plain": [
       "[['P', 'P*', 'Delta'],\n",
       " [0.078991596, 0.08, -0.0010084040000000044],\n",
       " [0.078991596, 0.05, 0.028991595999999994],\n",
       " [0.078991596, 0.07, 0.00899159599999999],\n",
       " [0.078991596, 0.06, 0.018991596],\n",
       " [0.078991596, 0.09, -0.011008404],\n",
       " [0.078991596, 0.09, -0.011008404],\n",
       " [0.078991596, 0.08, -0.0010084040000000044],\n",
       " [0.078991596, 0.09, -0.011008404],\n",
       " [0.078991596, 0.12, -0.041008404],\n",
       " [0.078991596, 0.05, 0.028991595999999994]]"
      ]
     },
     "metadata": {},
     "output_type": "display_data"
    },
    {
     "name": "stdout",
     "output_type": "stream",
     "text": [
      "sigma: 0.0009915959999999974\n",
      "\n",
      "n = 1000\n"
     ]
    },
    {
     "data": {
      "text/html": [
       "<table><tr><td>P</td><td>P*</td><td>Delta</td></tr><tr><td>0.078991596</td><td>0.083</td><td>-0.004008404000000007</td></tr><tr><td>0.078991596</td><td>0.088</td><td>-0.009008403999999998</td></tr><tr><td>0.078991596</td><td>0.074</td><td>0.004991596000000001</td></tr><tr><td>0.078991596</td><td>0.093</td><td>-0.014008404000000002</td></tr><tr><td>0.078991596</td><td>0.074</td><td>0.004991596000000001</td></tr><tr><td>0.078991596</td><td>0.074</td><td>0.004991596000000001</td></tr><tr><td>0.078991596</td><td>0.071</td><td>0.007991596000000004</td></tr><tr><td>0.078991596</td><td>0.077</td><td>0.0019915959999999983</td></tr><tr><td>0.078991596</td><td>0.073</td><td>0.005991596000000002</td></tr><tr><td>0.078991596</td><td>0.064</td><td>0.014991595999999996</td></tr></table>"
      ],
      "text/plain": [
       "[['P', 'P*', 'Delta'],\n",
       " [0.078991596, 0.083, -0.004008404000000007],\n",
       " [0.078991596, 0.088, -0.009008403999999998],\n",
       " [0.078991596, 0.074, 0.004991596000000001],\n",
       " [0.078991596, 0.093, -0.014008404000000002],\n",
       " [0.078991596, 0.074, 0.004991596000000001],\n",
       " [0.078991596, 0.074, 0.004991596000000001],\n",
       " [0.078991596, 0.071, 0.007991596000000004],\n",
       " [0.078991596, 0.077, 0.0019915959999999983],\n",
       " [0.078991596, 0.073, 0.005991596000000002],\n",
       " [0.078991596, 0.064, 0.014991595999999996]]"
      ]
     },
     "metadata": {},
     "output_type": "display_data"
    },
    {
     "name": "stdout",
     "output_type": "stream",
     "text": [
      "sigma: 0.0018915959999999995\n",
      "\n",
      "n = 10000\n"
     ]
    },
    {
     "data": {
      "text/html": [
       "<table><tr><td>P</td><td>P*</td><td>Delta</td></tr><tr><td>0.078991596</td><td>0.0776</td><td>0.001391595999999995</td></tr><tr><td>0.078991596</td><td>0.0775</td><td>0.0014915959999999978</td></tr><tr><td>0.078991596</td><td>0.0798</td><td>-0.0008084039999999987</td></tr><tr><td>0.078991596</td><td>0.0801</td><td>-0.0011084040000000073</td></tr><tr><td>0.078991596</td><td>0.0794</td><td>-0.0004084040000000011</td></tr><tr><td>0.078991596</td><td>0.0846</td><td>-0.005608403999999997</td></tr><tr><td>0.078991596</td><td>0.0773</td><td>0.0016915960000000035</td></tr><tr><td>0.078991596</td><td>0.0837</td><td>-0.004708403999999999</td></tr><tr><td>0.078991596</td><td>0.0784</td><td>0.0005915959999999998</td></tr><tr><td>0.078991596</td><td>0.077</td><td>0.0019915959999999983</td></tr></table>"
      ],
      "text/plain": [
       "[['P', 'P*', 'Delta'],\n",
       " [0.078991596, 0.0776, 0.001391595999999995],\n",
       " [0.078991596, 0.0775, 0.0014915959999999978],\n",
       " [0.078991596, 0.0798, -0.0008084039999999987],\n",
       " [0.078991596, 0.0801, -0.0011084040000000073],\n",
       " [0.078991596, 0.0794, -0.0004084040000000011],\n",
       " [0.078991596, 0.0846, -0.005608403999999997],\n",
       " [0.078991596, 0.0773, 0.0016915960000000035],\n",
       " [0.078991596, 0.0837, -0.004708403999999999],\n",
       " [0.078991596, 0.0784, 0.0005915959999999998],\n",
       " [0.078991596, 0.077, 0.0019915959999999983]]"
      ]
     },
     "metadata": {},
     "output_type": "display_data"
    },
    {
     "name": "stdout",
     "output_type": "stream",
     "text": [
      "sigma: -0.0005484040000000009\n",
      "\n"
     ]
    }
   ],
   "source": [
    "'''Вариант 1.\n",
    "Из колоды (36 карт) наудачу извлекаются 3 карты.\n",
    "Найти вероятность того, что сумма очков этих карт будет равна 21.'''\n",
    "\n",
    "#Массив типов карт\n",
    "card_types = [2, 3, 4, 6, 7, 8, 9, 10, 11]\n",
    "\n",
    "#Массив колличеств тестов\n",
    "n = [10, 100, 1000, 10**4]\n",
    "\n",
    "#Количество запусков тестов\n",
    "k = 10\n",
    "\n",
    "#Функция создания колоды\n",
    "def make_deck():\n",
    "    cards = []\n",
    "    for i in card_types:\n",
    "        for j in range(0, 4):\n",
    "            cards.append(i)\n",
    "    return cards\n",
    "\n",
    "#Функция вытаскивания одной случайной карты из колоды\n",
    "def draw(cards):\n",
    "    return cards.pop(random.randrange(0, len(cards)))\n",
    "\n",
    "#Функция одной игры(вытаскивание 3-ех карт и подсчет их суммы)\n",
    "def play():\n",
    "    cards = make_deck()\n",
    "    score = 0\n",
    "    for i in range(0, 3):\n",
    "        score += draw(cards)\n",
    "    return score\n",
    "\n",
    "#Функция совершения n игр и подсчета их результатов\n",
    "def make_n_plays(n):\n",
    "    count = 0\n",
    "    plays = []\n",
    "    for i in range(0, n):\n",
    "        p = play()\n",
    "        if p == 21:\n",
    "            count += 1\n",
    "        plays.append(p)\n",
    "    return count / n, plays\n",
    "\n",
    "#Аналитическое решение\n",
    "solution = 0.078991596\n",
    "\n",
    "#Цикл запуска тестов и вывода результатов\n",
    "for j in n:\n",
    "    table = ListTable()\n",
    "    table.append(['P', 'P*', 'Delta'])\n",
    "    sigma = 0\n",
    "    for i in range(0, k):\n",
    "        p, plays = make_n_plays(j)\n",
    "        sigma += solution - p\n",
    "        table.append([solution, p, solution - p])\n",
    "    \n",
    "    print('n = {}'.format(j))\n",
    "    display(table)\n",
    "    print('sigma: {0}'.format(sigma / k))\n",
    "    print('')"
   ]
  },
  {
   "cell_type": "code",
   "execution_count": 118,
   "metadata": {},
   "outputs": [
    {
     "name": "stdout",
     "output_type": "stream",
     "text": [
      "n = 10\n"
     ]
    },
    {
     "data": {
      "text/html": [
       "<table><tr><td>P</td><td>P*</td><td>Delta</td></tr><tr><td>0.1339745962155614</td><td>0.2</td><td>-0.06602540378443861</td></tr><tr><td>0.1339745962155614</td><td>0.0</td><td>0.1339745962155614</td></tr><tr><td>0.1339745962155614</td><td>0.2</td><td>-0.06602540378443861</td></tr><tr><td>0.1339745962155614</td><td>0.1</td><td>0.0339745962155614</td></tr><tr><td>0.1339745962155614</td><td>0.0</td><td>0.1339745962155614</td></tr><tr><td>0.1339745962155614</td><td>0.1</td><td>0.0339745962155614</td></tr><tr><td>0.1339745962155614</td><td>0.2</td><td>-0.06602540378443861</td></tr><tr><td>0.1339745962155614</td><td>0.2</td><td>-0.06602540378443861</td></tr><tr><td>0.1339745962155614</td><td>0.2</td><td>-0.06602540378443861</td></tr><tr><td>0.1339745962155614</td><td>0.2</td><td>-0.06602540378443861</td></tr></table>"
      ],
      "text/plain": [
       "[['P', 'P*', 'Delta'],\n",
       " [0.1339745962155614, 0.2, -0.06602540378443861],\n",
       " [0.1339745962155614, 0.0, 0.1339745962155614],\n",
       " [0.1339745962155614, 0.2, -0.06602540378443861],\n",
       " [0.1339745962155614, 0.1, 0.0339745962155614],\n",
       " [0.1339745962155614, 0.0, 0.1339745962155614],\n",
       " [0.1339745962155614, 0.1, 0.0339745962155614],\n",
       " [0.1339745962155614, 0.2, -0.06602540378443861],\n",
       " [0.1339745962155614, 0.2, -0.06602540378443861],\n",
       " [0.1339745962155614, 0.2, -0.06602540378443861],\n",
       " [0.1339745962155614, 0.2, -0.06602540378443861]]"
      ]
     },
     "metadata": {},
     "output_type": "display_data"
    },
    {
     "name": "stdout",
     "output_type": "stream",
     "text": [
      "sigma: -0.006025403784438605\n",
      "\n",
      "n = 100\n"
     ]
    },
    {
     "data": {
      "text/html": [
       "<table><tr><td>P</td><td>P*</td><td>Delta</td></tr><tr><td>0.1339745962155614</td><td>0.11</td><td>0.023974596215561403</td></tr><tr><td>0.1339745962155614</td><td>0.16</td><td>-0.0260254037844386</td></tr><tr><td>0.1339745962155614</td><td>0.14</td><td>-0.00602540378443861</td></tr><tr><td>0.1339745962155614</td><td>0.09</td><td>0.04397459621556141</td></tr><tr><td>0.1339745962155614</td><td>0.1</td><td>0.0339745962155614</td></tr><tr><td>0.1339745962155614</td><td>0.08</td><td>0.0539745962155614</td></tr><tr><td>0.1339745962155614</td><td>0.15</td><td>-0.01602540378443859</td></tr><tr><td>0.1339745962155614</td><td>0.07</td><td>0.0639745962155614</td></tr><tr><td>0.1339745962155614</td><td>0.17</td><td>-0.03602540378443861</td></tr><tr><td>0.1339745962155614</td><td>0.19</td><td>-0.0560254037844386</td></tr></table>"
      ],
      "text/plain": [
       "[['P', 'P*', 'Delta'],\n",
       " [0.1339745962155614, 0.11, 0.023974596215561403],\n",
       " [0.1339745962155614, 0.16, -0.0260254037844386],\n",
       " [0.1339745962155614, 0.14, -0.00602540378443861],\n",
       " [0.1339745962155614, 0.09, 0.04397459621556141],\n",
       " [0.1339745962155614, 0.1, 0.0339745962155614],\n",
       " [0.1339745962155614, 0.08, 0.0539745962155614],\n",
       " [0.1339745962155614, 0.15, -0.01602540378443859],\n",
       " [0.1339745962155614, 0.07, 0.0639745962155614],\n",
       " [0.1339745962155614, 0.17, -0.03602540378443861],\n",
       " [0.1339745962155614, 0.19, -0.0560254037844386]]"
      ]
     },
     "metadata": {},
     "output_type": "display_data"
    },
    {
     "name": "stdout",
     "output_type": "stream",
     "text": [
      "sigma: 0.007974596215561399\n",
      "\n",
      "n = 1000\n"
     ]
    },
    {
     "data": {
      "text/html": [
       "<table><tr><td>P</td><td>P*</td><td>Delta</td></tr><tr><td>0.1339745962155614</td><td>0.126</td><td>0.007974596215561403</td></tr><tr><td>0.1339745962155614</td><td>0.133</td><td>0.0009745962155613963</td></tr><tr><td>0.1339745962155614</td><td>0.141</td><td>-0.007025403784438583</td></tr><tr><td>0.1339745962155614</td><td>0.129</td><td>0.0049745962155614</td></tr><tr><td>0.1339745962155614</td><td>0.123</td><td>0.010974596215561405</td></tr><tr><td>0.1339745962155614</td><td>0.126</td><td>0.007974596215561403</td></tr><tr><td>0.1339745962155614</td><td>0.125</td><td>0.008974596215561403</td></tr><tr><td>0.1339745962155614</td><td>0.131</td><td>0.002974596215561398</td></tr><tr><td>0.1339745962155614</td><td>0.135</td><td>-0.0010254037844386055</td></tr><tr><td>0.1339745962155614</td><td>0.137</td><td>-0.0030254037844386072</td></tr></table>"
      ],
      "text/plain": [
       "[['P', 'P*', 'Delta'],\n",
       " [0.1339745962155614, 0.126, 0.007974596215561403],\n",
       " [0.1339745962155614, 0.133, 0.0009745962155613963],\n",
       " [0.1339745962155614, 0.141, -0.007025403784438583],\n",
       " [0.1339745962155614, 0.129, 0.0049745962155614],\n",
       " [0.1339745962155614, 0.123, 0.010974596215561405],\n",
       " [0.1339745962155614, 0.126, 0.007974596215561403],\n",
       " [0.1339745962155614, 0.125, 0.008974596215561403],\n",
       " [0.1339745962155614, 0.131, 0.002974596215561398],\n",
       " [0.1339745962155614, 0.135, -0.0010254037844386055],\n",
       " [0.1339745962155614, 0.137, -0.0030254037844386072]]"
      ]
     },
     "metadata": {},
     "output_type": "display_data"
    },
    {
     "name": "stdout",
     "output_type": "stream",
     "text": [
      "sigma: 0.0033745962155614013\n",
      "\n",
      "n = 10000\n"
     ]
    },
    {
     "data": {
      "text/html": [
       "<table><tr><td>P</td><td>P*</td><td>Delta</td></tr><tr><td>0.1339745962155614</td><td>0.1357</td><td>-0.0017254037844385839</td></tr><tr><td>0.1339745962155614</td><td>0.132</td><td>0.001974596215561397</td></tr><tr><td>0.1339745962155614</td><td>0.134</td><td>-2.5403784438604582e-05</td></tr><tr><td>0.1339745962155614</td><td>0.1298</td><td>0.004174596215561405</td></tr><tr><td>0.1339745962155614</td><td>0.1308</td><td>0.003174596215561404</td></tr><tr><td>0.1339745962155614</td><td>0.135</td><td>-0.0010254037844386055</td></tr><tr><td>0.1339745962155614</td><td>0.1312</td><td>0.0027745962155613924</td></tr><tr><td>0.1339745962155614</td><td>0.1353</td><td>-0.0013254037844386002</td></tr><tr><td>0.1339745962155614</td><td>0.1343</td><td>-0.0003254037844385993</td></tr><tr><td>0.1339745962155614</td><td>0.1318</td><td>0.002174596215561403</td></tr></table>"
      ],
      "text/plain": [
       "[['P', 'P*', 'Delta'],\n",
       " [0.1339745962155614, 0.1357, -0.0017254037844385839],\n",
       " [0.1339745962155614, 0.132, 0.001974596215561397],\n",
       " [0.1339745962155614, 0.134, -2.5403784438604582e-05],\n",
       " [0.1339745962155614, 0.1298, 0.004174596215561405],\n",
       " [0.1339745962155614, 0.1308, 0.003174596215561404],\n",
       " [0.1339745962155614, 0.135, -0.0010254037844386055],\n",
       " [0.1339745962155614, 0.1312, 0.0027745962155613924],\n",
       " [0.1339745962155614, 0.1353, -0.0013254037844386002],\n",
       " [0.1339745962155614, 0.1343, -0.0003254037844385993],\n",
       " [0.1339745962155614, 0.1318, 0.002174596215561403]]"
      ]
     },
     "metadata": {},
     "output_type": "display_data"
    },
    {
     "name": "stdout",
     "output_type": "stream",
     "text": [
      "sigma: 0.0009845962155614007\n",
      "\n"
     ]
    }
   ],
   "source": [
    "'''Вариант 5.\n",
    "В круге радиуса R проводятся хорды параллельно заданному направлению.\n",
    "Какова вероятность того, что длина наугад взятой хорды не более R,\n",
    "если равновозможны любые положения точек пересечения хорды с диаметром,\n",
    "перпендикулярным выбранному направлению?'''\n",
    "\n",
    "#Радиус окружности\n",
    "R = 1000\n",
    "\n",
    "#Количество запусков теста\n",
    "k = k\n",
    "\n",
    "#Функия проведения хорды\n",
    "def draw_chord():\n",
    "    return sqrt(R**2 - random.uniform(0, R)**2) * 2\n",
    "\n",
    "#Функция, проводящая n хорд\n",
    "def make_n_attempts(n):\n",
    "    count = 0\n",
    "    attempts = []\n",
    "    for i in range(0, n):\n",
    "        chord = draw_chord()\n",
    "        count += chord <= R\n",
    "        attempts.append(chord)\n",
    "    return count / n, attempts\n",
    "\n",
    "#Аналитическое решение\n",
    "solution = 1 - sqrt(3)/2\n",
    "\n",
    "#Цикл запуска тестов и вывода результатов\n",
    "for j in n:\n",
    "    table = ListTable()\n",
    "    table.append(['P', 'P*', 'Delta'])\n",
    "    sigma = 0\n",
    "    for i in range(k):\n",
    "        p, attempts = make_n_attempts(j)\n",
    "        dif = solution - p\n",
    "        sigma += dif\n",
    "        table.append([solution, p, dif])\n",
    "\n",
    "    print('n = {}'.format(j))\n",
    "    display(table)\n",
    "    print('sigma: {0}'.format(sigma / k))\n",
    "    print('')"
   ]
  },
  {
   "cell_type": "code",
   "execution_count": 119,
   "metadata": {},
   "outputs": [],
   "source": [
    "#Функция одного выстрела\n",
    "def shot():\n",
    "    v = random.uniform(0.0,1.0)\n",
    "    if v < 0.5:\n",
    "        return 10\n",
    "    elif v < 0.8:\n",
    "        return 5\n",
    "    else:\n",
    "        return -1\n",
    "\n",
    "#Функция, совершающая 3 выстрела и подсчитывающая их результат\n",
    "def make_shots():\n",
    "    res = 0\n",
    "    for i in range(3):\n",
    "        res += shot()\n",
    "    return res\n",
    "\n",
    "#Функция, создающая массив результатов выстрелов\n",
    "def make_shots_list(n):\n",
    "    res = []\n",
    "    for i in range(0, n):\n",
    "        res.append(make_shots())\n",
    "    return res\n",
    "\n",
    "def cdf(shots):\n",
    "    data = np.cumsum(np.histogram(shots, bins=auto, density=True))\n",
    "        \n",
    "shots = make_shots_list(100000)"
   ]
  },
  {
   "cell_type": "code",
   "execution_count": 120,
   "metadata": {},
   "outputs": [
    {
     "name": "stdout",
     "output_type": "stream",
     "text": [
      "Ряд распределения\n"
     ]
    },
    {
     "data": {
      "text/html": [
       "<table><tr><td>-3</td><td>3</td><td>8</td><td>9</td><td>14</td><td>15</td><td>19</td><td>20</td><td>25</td><td>30</td></tr><tr><td>0.00812</td><td>0.03635</td><td>0.06069</td><td>0.05345</td><td>0.17865</td><td>0.02616</td><td>0.1483</td><td>0.13579</td><td>0.22546</td><td>0.12703</td></tr></table>"
      ],
      "text/plain": [
       "[[-3, 3, 8, 9, 14, 15, 19, 20, 25, 30],\n",
       " [0.00812,\n",
       "  0.03635,\n",
       "  0.06069,\n",
       "  0.05345,\n",
       "  0.17865,\n",
       "  0.02616,\n",
       "  0.1483,\n",
       "  0.13579,\n",
       "  0.22546,\n",
       "  0.12703]]"
      ]
     },
     "execution_count": 120,
     "metadata": {},
     "output_type": "execute_result"
    }
   ],
   "source": [
    "import collections\n",
    "x_dict = {}\n",
    "for i in shots:\n",
    "    if i not in x_dict:\n",
    "        x_dict[i] = 1\n",
    "    else:\n",
    "        x_dict[i] += 1    \n",
    "x_dict = collections.OrderedDict(sorted(x_dict.items()))\n",
    "x_table = ListTable()\n",
    "x_table.append([])\n",
    "x_table.append([])\n",
    "n = len(shots)\n",
    "for i, k in x_dict.items():\n",
    "    x_table[0].append(i)\n",
    "    x_table[1].append(k / n)\n",
    "print(\"Ряд распределения\")\n",
    "x_table"
   ]
  },
  {
   "cell_type": "code",
   "execution_count": 121,
   "metadata": {},
   "outputs": [
    {
     "name": "stdout",
     "output_type": "stream",
     "text": [
      "Многоугольник распределения\n"
     ]
    },
    {
     "data": {
      "image/png": "[encoded data removed]",
      "text/plain": [
       "<matplotlib.figure.Figure at 0x7f6dc993a208>"
      ]
     },
     "metadata": {},
     "output_type": "display_data"
    }
   ],
   "source": [
    "plt.plot(x_table[0], x_table[1]);\n",
    "print(\"Многоугольник распределения\")"
   ]
  },
  {
   "cell_type": "code",
   "execution_count": 142,
   "metadata": {},
   "outputs": [
    {
     "name": "stdout",
     "output_type": "stream",
     "text": [
      "Гистограма распределения\n"
     ]
    },
    {
     "data": {
      "image/png": "[encoded data removed]",
      "text/plain": [
       "<matplotlib.figure.Figure at 0x7f6dc97e7240>"
      ]
     },
     "metadata": {},
     "output_type": "display_data"
    }
   ],
   "source": [
    "def histogram(shots):\n",
    "    return plt.hist(shots, bins='auto')\n",
    "\n",
    "a,b,c = histogram(shots)\n",
    "print(\"Гистограма распределения\")"
   ]
  },
  {
   "cell_type": "code",
   "execution_count": 143,
   "metadata": {
    "scrolled": true
   },
   "outputs": [
    {
     "name": "stdout",
     "output_type": "stream",
     "text": [
      "Статистическая функция распределения\n"
     ]
    },
    {
     "data": {
      "image/png": "[encoded data removed]",
      "text/plain": [
       "<matplotlib.figure.Figure at 0x7f6dc97bd5c0>"
      ]
     },
     "metadata": {},
     "output_type": "display_data"
    }
   ],
   "source": [
    "def cdf_plot(shots):\n",
    "    plt.hist(shots, normed=True, cumulative=True, label='CDF', histtype='step', range=(-3, 30))\n",
    "cdf_plot(shots)\n",
    "print(\"Статистическая функция распределения\")"
   ]
  },
  {
   "cell_type": "code",
   "execution_count": 124,
   "metadata": {},
   "outputs": [
    {
     "name": "stdout",
     "output_type": "stream",
     "text": [
      "Среднее: 18.92566\n"
     ]
    }
   ],
   "source": [
    "print(\"Среднее: {0}\".format(average(shots)))"
   ]
  },
  {
   "cell_type": "code",
   "execution_count": 125,
   "metadata": {},
   "outputs": [
    {
     "name": "stdout",
     "output_type": "stream",
     "text": [
      "Аналитически среднее: 18.9\n"
     ]
    }
   ],
   "source": [
    "print(\"Аналитически среднее: {}\".format(3 * (0.5 * 10 + 0.3 * 5 - 0.2)))"
   ]
  },
  {
   "cell_type": "code",
   "execution_count": 126,
   "metadata": {},
   "outputs": [
    {
     "name": "stdout",
     "output_type": "stream",
     "text": [
      "Аналитически дисперсия: 18.9\n"
     ]
    }
   ],
   "source": [
    "print(\"Аналитически дисперсия: {}\".format(3 * (0.5 * 10 + 0.3 * 5 - 0.2)))"
   ]
  },
  {
   "cell_type": "code",
   "execution_count": 127,
   "metadata": {
    "scrolled": true
   },
   "outputs": [
    {
     "name": "stdout",
     "output_type": "stream",
     "text": [
      "Дисперсия: 54.42643356439999\n"
     ]
    }
   ],
   "source": [
    "print(\"Дисперсия: {0}\".format(np.var(shots)))"
   ]
  },
  {
   "cell_type": "code",
   "execution_count": 128,
   "metadata": {},
   "outputs": [
    {
     "name": "stdout",
     "output_type": "stream",
     "text": [
      "Коэффицент ассиметрии: -0.40728155967901714\n"
     ]
    }
   ],
   "source": [
    "print(\"Коэффицент ассиметрии: {}\".format(skew(shots)))"
   ]
  },
  {
   "cell_type": "code",
   "execution_count": 129,
   "metadata": {},
   "outputs": [
    {
     "name": "stdout",
     "output_type": "stream",
     "text": [
      "Коэффицент эксцесса: -0.32379498752144364\n"
     ]
    }
   ],
   "source": [
    "print(\"Коэффицент эксцесса: {}\".format(kurtosis(shots)))"
   ]
  },
  {
   "cell_type": "code",
   "execution_count": 130,
   "metadata": {},
   "outputs": [],
   "source": [
    "def prob(series, k):\n",
    "    if k < series[0][0]:\n",
    "        return 0\n",
    "    elif k > series[0][-1]:\n",
    "        return 1\n",
    "    else:\n",
    "        return series[1][np.searchsorted(series[0], k)]\n",
    "    \n",
    "def prob_range(series, k, t):\n",
    "    return prob(series, t) - prob(series, k)"
   ]
  },
  {
   "cell_type": "code",
   "execution_count": 131,
   "metadata": {},
   "outputs": [
    {
     "name": "stdout",
     "output_type": "stream",
     "text": [
      "Вероятность попадания в промежуток [2, 7]: 0.02434\n"
     ]
    }
   ],
   "source": [
    "print(\"Вероятность попадания в промежуток [2, 7]: {0}\".format(prob_range(x_table, 2, 7)))"
   ]
  },
  {
   "cell_type": "code",
   "execution_count": 132,
   "metadata": {},
   "outputs": [],
   "source": [
    "def density(x):\n",
    "    return 1/sqrt(pi) * exp(-(x**2))"
   ]
  },
  {
   "cell_type": "code",
   "execution_count": 133,
   "metadata": {},
   "outputs": [
    {
     "name": "stdout",
     "output_type": "stream",
     "text": [
      "Плотность распределения\n"
     ]
    },
    {
     "data": {
      "image/png": "[encoded data removed]",
      "text/plain": [
       "<matplotlib.figure.Figure at 0x7f6dc9a30a90>"
      ]
     },
     "metadata": {},
     "output_type": "display_data"
    }
   ],
   "source": [
    "start = -5\n",
    "step = 0.05\n",
    "steps = -(start + start) / step\n",
    "x_axis = list(map(lambda x : start + step * x, range(0, int(steps))))\n",
    "y_axis = list(map(density, x_axis))\n",
    "plt.plot(x_axis, y_axis);\n",
    "print(\"Плотность распределения\")"
   ]
  },
  {
   "cell_type": "code",
   "execution_count": 134,
   "metadata": {},
   "outputs": [
    {
     "name": "stdout",
     "output_type": "stream",
     "text": [
      "Функция распределения\n"
     ]
    },
    {
     "data": {
      "image/png": "[encoded data removed]",
      "text/plain": [
       "<matplotlib.figure.Figure at 0x7f6dc98e8710>"
      ]
     },
     "metadata": {},
     "output_type": "display_data"
    }
   ],
   "source": [
    "result = list(map(lambda x: integrate.quad(density, -float('inf'), x)[0],x_axis))\n",
    "plt.plot(x_axis, result);\n",
    "print(\"Функция распределения\")"
   ]
  },
  {
   "cell_type": "code",
   "execution_count": 144,
   "metadata": {},
   "outputs": [
    {
     "name": "stdout",
     "output_type": "stream",
     "text": [
      "E: 0.01769102533338746\n",
      "D: 0.30495321083314847\n",
      "0.2802186076970469\n",
      "0.30384796004752923\n"
     ]
    }
   ],
   "source": [
    "k = 100\n",
    "data = [ random.normalvariate(0, sqrt(1 / pi)) for i in range(0, k)]\n",
    "\n",
    "print(\"E: {0}\".format(average(data)))\n",
    "print(\"D: {0}\".format(np.var(data)))\n",
    "print(skew(data))\n",
    "print(kurtosis(data))"
   ]
  },
  {
   "cell_type": "code",
   "execution_count": 145,
   "metadata": {},
   "outputs": [
    {
     "name": "stdout",
     "output_type": "stream",
     "text": [
      "Гистограма\n"
     ]
    },
    {
     "data": {
      "image/png": "[encoded data removed]",
      "text/plain": [
       "<matplotlib.figure.Figure at 0x7f6dc92aea20>"
      ]
     },
     "metadata": {},
     "output_type": "display_data"
    }
   ],
   "source": [
    "a,b,c = histogram(data);\n",
    "print(\"Гистограма\")"
   ]
  },
  {
   "cell_type": "code",
   "execution_count": 146,
   "metadata": {},
   "outputs": [
    {
     "name": "stdout",
     "output_type": "stream",
     "text": [
      "Статистическая функция распределения\n"
     ]
    },
    {
     "data": {
      "image/png": "[encoded data removed]",
      "text/plain": [
       "<matplotlib.figure.Figure at 0x7f6dc990a2b0>"
      ]
     },
     "metadata": {},
     "output_type": "display_data"
    }
   ],
   "source": [
    "a = plt.hist(data, normed=True, cumulative=True, label='CDF', histtype='step', bins='auto')\n",
    "print(\"Статистическая функция распределения\")"
   ]
  },
  {
   "cell_type": "code",
   "execution_count": null,
   "metadata": {},
   "outputs": [],
   "source": []
  }
 ],
 "metadata": {
  "kernelspec": {
   "display_name": "Python 3",
   "language": "python",
   "name": "python3"
  },
  "language_info": {
   "codemirror_mode": {
    "name": "ipython",
    "version": 3
   },
   "file_extension": ".py",
   "mimetype": "text/x-python",
   "name": "python",
   "nbconvert_exporter": "python",
   "pygments_lexer": "ipython3",
   "version": "3.4.3"
  }
 },
 "nbformat": 4,
 "nbformat_minor": 2
}
