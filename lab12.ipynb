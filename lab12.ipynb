{
 "cells": [
  {
   "cell_type": "code",
   "execution_count": 28,
   "metadata": {},
   "outputs": [],
   "source": [
    "import numpy as np\n",
    "import matplotlib.pyplot as plt\n",
    "import plotly.plotly as py\n",
    "import random\n",
    "from scipy.stats import skew, kurtosis, variation, moment\n",
    "import scipy.integrate as integrate\n",
    "from math import sqrt, exp, pi\n",
    "import math\n",
    "\n",
    "class ListTable(list):\n",
    "    \"\"\" Overridden list class which takes a 2-dimensional list of \n",
    "        the form [[1,2,3],[4,5,6]], and renders an HTML Table in \n",
    "        IPython Notebook. \"\"\"\n",
    "    \n",
    "    def _repr_html_(self):\n",
    "        html = [\"<table>\"]\n",
    "        for row in self:\n",
    "            html.append(\"<tr>\")\n",
    "            \n",
    "            for col in row:\n",
    "                html.append(\"<td>{0}</td>\".format(col))\n",
    "            \n",
    "            \n",
    "            html.append(\"</tr>\")\n",
    "        html.append(\"</table>\")\n",
    "        return ''.join(html)\n",
    "    \n",
    "    def __str__(self):\n",
    "        return self._repr_html_()\n",
    "\n",
    "def average(arr):\n",
    "    res = 0\n",
    "    for i in arr:\n",
    "        res += i\n",
    "    return res / len(arr)\n",
    "\n",
    "def std_sqrt_deviation(arr):\n",
    "    res = 0\n",
    "    avg = average(arr)\n",
    "    for i in arr:\n",
    "        res += (i - avg)**2\n",
    "    return sqrt(res / len(arr))"
   ]
  },
  {
   "cell_type": "code",
   "execution_count": 29,
   "metadata": {},
   "outputs": [],
   "source": [
    "#Функция одного выстрела\n",
    "def shot():\n",
    "    v = random.uniform(0.0,1.0)\n",
    "    if v < 0.5:\n",
    "        return 10\n",
    "    elif v < 0.8:\n",
    "        return 5\n",
    "    else:\n",
    "        return -1\n",
    "\n",
    "#Функция, совершающая 3 выстрела и подсчитывающая их результат\n",
    "def make_shots():\n",
    "    res = 0\n",
    "    for i in range(3):\n",
    "        res += shot()\n",
    "    return res\n",
    "\n",
    "#Функция, создающая массив результатов выстрелов\n",
    "def make_shots_list(n):\n",
    "    res = []\n",
    "    for i in range(0, n):\n",
    "        res.append(make_shots())\n",
    "    return res\n",
    "\n",
    "def cdf(shots):\n",
    "    data = np.cumsum(np.histogram(shots, bins=auto, density=True))\n",
    "        \n",
    "k = 10\n",
    "ns = [10, 100, 1000, 1000000]\n",
    "shots = make_shots_list(ns[3])"
   ]
  },
  {
   "cell_type": "code",
   "execution_count": 30,
   "metadata": {},
   "outputs": [
    {
     "name": "stdout",
     "output_type": "stream",
     "text": [
      "Ряд распределения\n"
     ]
    },
    {
     "data": {
      "text/html": [
       "<table><tr><td>-3</td><td>3</td><td>8</td><td>9</td><td>14</td><td>15</td><td>19</td><td>20</td><td>25</td><td>30</td></tr><tr><td>0.0081</td><td>0.036045</td><td>0.05967</td><td>0.053829</td><td>0.180571</td><td>0.026992</td><td>0.150173</td><td>0.134814</td><td>0.22494</td><td>0.124866</td></tr></table>"
      ],
      "text/plain": [
       "[[-3, 3, 8, 9, 14, 15, 19, 20, 25, 30],\n",
       " [0.0081,\n",
       "  0.036045,\n",
       "  0.05967,\n",
       "  0.053829,\n",
       "  0.180571,\n",
       "  0.026992,\n",
       "  0.150173,\n",
       "  0.134814,\n",
       "  0.22494,\n",
       "  0.124866]]"
      ]
     },
     "execution_count": 30,
     "metadata": {},
     "output_type": "execute_result"
    }
   ],
   "source": [
    "import collections\n",
    "x_dict = {}\n",
    "for i in shots:\n",
    "    if i not in x_dict:\n",
    "        x_dict[i] = 1\n",
    "    else:\n",
    "        x_dict[i] += 1    \n",
    "\n",
    "x_dict = collections.OrderedDict(sorted(x_dict.items()))\n",
    "x_table = ListTable()\n",
    "x_table.append([])\n",
    "x_table.append([])\n",
    "n = len(shots)\n",
    "for i, k in x_dict.items():\n",
    "    x_table[0].append(i)\n",
    "    x_table[1].append(k / n)\n",
    "print(\"Ряд распределения\")\n",
    "x_table"
   ]
  },
  {
   "cell_type": "code",
   "execution_count": 31,
   "metadata": {
    "scrolled": true
   },
   "outputs": [
    {
     "name": "stdout",
     "output_type": "stream",
     "text": [
      "Статистическая функция распределения\n"
     ]
    },
    {
     "data": {
      "image/png": "[encoded data removed]",
      "text/plain": [
       "<Figure size 432x288 with 1 Axes>"
      ]
     },
     "metadata": {},
     "output_type": "display_data"
    }
   ],
   "source": [
    "def cdf_plot(shots):\n",
    "    plt.hist(shots, density=True, cumulative=True, label='CDF', histtype='step', range=(-3, 30))\n",
    "cdf_plot(shots)\n",
    "print(\"Статистическая функция распределения\")"
   ]
  },
  {
   "cell_type": "code",
   "execution_count": 32,
   "metadata": {},
   "outputs": [],
   "source": [
    "E = 18.9\n",
    "D = 53.8666\n",
    "k = 10"
   ]
  },
  {
   "cell_type": "code",
   "execution_count": 33,
   "metadata": {},
   "outputs": [
    {
     "name": "stdout",
     "output_type": "stream",
     "text": [
      "n = 10\n"
     ]
    },
    {
     "data": {
      "text/html": [
       "<table><tr><td>E*</td><td>E</td><td>delta E</td><td>D*</td><td>D</td><td>delta D</td></tr><tr><td>20.0</td><td>18.9</td><td>-1.1000000000000014</td><td>49.2</td><td>53.8666</td><td>4.666599999999995</td></tr><tr><td>19.2</td><td>18.9</td><td>-0.3000000000000007</td><td>71.56</td><td>53.8666</td><td>-17.693400000000004</td></tr><tr><td>19.4</td><td>18.9</td><td>-0.5</td><td>59.64000000000001</td><td>53.8666</td><td>-5.773400000000009</td></tr><tr><td>22.2</td><td>18.9</td><td>-3.3000000000000007</td><td>45.96</td><td>53.8666</td><td>7.906599999999997</td></tr><tr><td>17.3</td><td>18.9</td><td>1.5999999999999979</td><td>36.61</td><td>53.8666</td><td>17.2566</td></tr><tr><td>18.6</td><td>18.9</td><td>0.29999999999999716</td><td>43.440000000000005</td><td>53.8666</td><td>10.426599999999993</td></tr><tr><td>19.4</td><td>18.9</td><td>-0.5</td><td>58.44</td><td>53.8666</td><td>-4.5733999999999995</td></tr><tr><td>19.1</td><td>18.9</td><td>-0.20000000000000284</td><td>38.29</td><td>53.8666</td><td>15.5766</td></tr><tr><td>21.2</td><td>18.9</td><td>-2.3000000000000007</td><td>50.35999999999999</td><td>53.8666</td><td>3.506600000000006</td></tr><tr><td>21.8</td><td>18.9</td><td>-2.900000000000002</td><td>33.96</td><td>53.8666</td><td>19.906599999999997</td></tr></table>"
      ],
      "text/plain": [
       "[['E*', 'E', 'delta E', 'D*', 'D', 'delta D'],\n",
       " [20.0, 18.9, -1.1000000000000014, 49.2, 53.8666, 4.666599999999995],\n",
       " [19.2, 18.9, -0.3000000000000007, 71.56, 53.8666, -17.693400000000004],\n",
       " [19.4, 18.9, -0.5, 59.64000000000001, 53.8666, -5.773400000000009],\n",
       " [22.2, 18.9, -3.3000000000000007, 45.96, 53.8666, 7.906599999999997],\n",
       " [17.3, 18.9, 1.5999999999999979, 36.61, 53.8666, 17.2566],\n",
       " [18.6,\n",
       "  18.9,\n",
       "  0.29999999999999716,\n",
       "  43.440000000000005,\n",
       "  53.8666,\n",
       "  10.426599999999993],\n",
       " [19.4, 18.9, -0.5, 58.44, 53.8666, -4.5733999999999995],\n",
       " [19.1, 18.9, -0.20000000000000284, 38.29, 53.8666, 15.5766],\n",
       " [21.2,\n",
       "  18.9,\n",
       "  -2.3000000000000007,\n",
       "  50.35999999999999,\n",
       "  53.8666,\n",
       "  3.506600000000006],\n",
       " [21.8, 18.9, -2.900000000000002, 33.96, 53.8666, 19.906599999999997]]"
      ]
     },
     "metadata": {},
     "output_type": "display_data"
    },
    {
     "name": "stdout",
     "output_type": "stream",
     "text": [
      "Sigma E: -0.9200000000000014\n",
      "Sigma D: 5.120599999999998\n",
      "n = 100\n"
     ]
    },
    {
     "data": {
      "text/html": [
       "<table><tr><td>E*</td><td>E</td><td>delta E</td><td>D*</td><td>D</td><td>delta D</td></tr><tr><td>18.49</td><td>18.9</td><td>0.41000000000000014</td><td>56.349900000000005</td><td>53.8666</td><td>-2.483300000000007</td></tr><tr><td>19.47</td><td>18.9</td><td>-0.5700000000000003</td><td>43.369099999999996</td><td>53.8666</td><td>10.497500000000002</td></tr><tr><td>18.78</td><td>18.9</td><td>0.11999999999999744</td><td>50.5916</td><td>53.8666</td><td>3.2749999999999986</td></tr><tr><td>19.4</td><td>18.9</td><td>-0.5</td><td>55.73999999999999</td><td>53.8666</td><td>-1.8733999999999895</td></tr><tr><td>19.06</td><td>18.9</td><td>-0.16000000000000014</td><td>59.55640000000001</td><td>53.8666</td><td>-5.689800000000012</td></tr><tr><td>20.24</td><td>18.9</td><td>-1.3399999999999999</td><td>40.7824</td><td>53.8666</td><td>13.084199999999996</td></tr><tr><td>18.97</td><td>18.9</td><td>-0.07000000000000028</td><td>38.7691</td><td>53.8666</td><td>15.097499999999997</td></tr><tr><td>17.87</td><td>18.9</td><td>1.0299999999999976</td><td>64.03309999999999</td><td>53.8666</td><td>-10.166499999999992</td></tr><tr><td>18.14</td><td>18.9</td><td>0.759999999999998</td><td>51.5804</td><td>53.8666</td><td>2.286200000000001</td></tr><tr><td>17.18</td><td>18.9</td><td>1.7199999999999989</td><td>53.867599999999996</td><td>53.8666</td><td>-0.0009999999999976694</td></tr></table>"
      ],
      "text/plain": [
       "[['E*', 'E', 'delta E', 'D*', 'D', 'delta D'],\n",
       " [18.49,\n",
       "  18.9,\n",
       "  0.41000000000000014,\n",
       "  56.349900000000005,\n",
       "  53.8666,\n",
       "  -2.483300000000007],\n",
       " [19.47,\n",
       "  18.9,\n",
       "  -0.5700000000000003,\n",
       "  43.369099999999996,\n",
       "  53.8666,\n",
       "  10.497500000000002],\n",
       " [18.78, 18.9, 0.11999999999999744, 50.5916, 53.8666, 3.2749999999999986],\n",
       " [19.4, 18.9, -0.5, 55.73999999999999, 53.8666, -1.8733999999999895],\n",
       " [19.06,\n",
       "  18.9,\n",
       "  -0.16000000000000014,\n",
       "  59.55640000000001,\n",
       "  53.8666,\n",
       "  -5.689800000000012],\n",
       " [20.24, 18.9, -1.3399999999999999, 40.7824, 53.8666, 13.084199999999996],\n",
       " [18.97, 18.9, -0.07000000000000028, 38.7691, 53.8666, 15.097499999999997],\n",
       " [17.87,\n",
       "  18.9,\n",
       "  1.0299999999999976,\n",
       "  64.03309999999999,\n",
       "  53.8666,\n",
       "  -10.166499999999992],\n",
       " [18.14, 18.9, 0.759999999999998, 51.5804, 53.8666, 2.286200000000001],\n",
       " [17.18,\n",
       "  18.9,\n",
       "  1.7199999999999989,\n",
       "  53.867599999999996,\n",
       "  53.8666,\n",
       "  -0.0009999999999976694]]"
      ]
     },
     "metadata": {},
     "output_type": "display_data"
    },
    {
     "name": "stdout",
     "output_type": "stream",
     "text": [
      "Sigma E: 0.13999999999999915\n",
      "Sigma D: 2.4026399999999994\n",
      "n = 1000\n"
     ]
    },
    {
     "data": {
      "text/html": [
       "<table><tr><td>E*</td><td>E</td><td>delta E</td><td>D*</td><td>D</td><td>delta D</td></tr><tr><td>19.125</td><td>18.9</td><td>-0.22500000000000142</td><td>54.385375</td><td>53.8666</td><td>-0.5187750000000051</td></tr><tr><td>18.727</td><td>18.9</td><td>0.17299999999999827</td><td>50.68847100000001</td><td>53.8666</td><td>3.1781289999999913</td></tr><tr><td>18.717</td><td>18.9</td><td>0.18299999999999983</td><td>54.086911</td><td>53.8666</td><td>-0.22031100000000237</td></tr><tr><td>19.123</td><td>18.9</td><td>-0.22300000000000253</td><td>54.417871000000005</td><td>53.8666</td><td>-0.551271000000007</td></tr><tr><td>18.889</td><td>18.9</td><td>0.010999999999999233</td><td>55.776679</td><td>53.8666</td><td>-1.9100790000000032</td></tr><tr><td>18.622</td><td>18.9</td><td>0.2779999999999987</td><td>54.959115999999995</td><td>53.8666</td><td>-1.0925159999999963</td></tr><tr><td>18.886</td><td>18.9</td><td>0.013999999999999346</td><td>50.589004</td><td>53.8666</td><td>3.2775959999999955</td></tr><tr><td>18.666</td><td>18.9</td><td>0.2339999999999982</td><td>55.550444000000006</td><td>53.8666</td><td>-1.6838440000000077</td></tr><tr><td>19.146</td><td>18.9</td><td>-0.24600000000000222</td><td>53.578683999999996</td><td>53.8666</td><td>0.2879160000000027</td></tr><tr><td>19.023</td><td>18.9</td><td>-0.12300000000000111</td><td>54.208470999999996</td><td>53.8666</td><td>-0.3418709999999976</td></tr></table>"
      ],
      "text/plain": [
       "[['E*', 'E', 'delta E', 'D*', 'D', 'delta D'],\n",
       " [19.125, 18.9, -0.22500000000000142, 54.385375, 53.8666, -0.5187750000000051],\n",
       " [18.727,\n",
       "  18.9,\n",
       "  0.17299999999999827,\n",
       "  50.68847100000001,\n",
       "  53.8666,\n",
       "  3.1781289999999913],\n",
       " [18.717, 18.9, 0.18299999999999983, 54.086911, 53.8666, -0.22031100000000237],\n",
       " [19.123,\n",
       "  18.9,\n",
       "  -0.22300000000000253,\n",
       "  54.417871000000005,\n",
       "  53.8666,\n",
       "  -0.551271000000007],\n",
       " [18.889, 18.9, 0.010999999999999233, 55.776679, 53.8666, -1.9100790000000032],\n",
       " [18.622,\n",
       "  18.9,\n",
       "  0.2779999999999987,\n",
       "  54.959115999999995,\n",
       "  53.8666,\n",
       "  -1.0925159999999963],\n",
       " [18.886, 18.9, 0.013999999999999346, 50.589004, 53.8666, 3.2775959999999955],\n",
       " [18.666,\n",
       "  18.9,\n",
       "  0.2339999999999982,\n",
       "  55.550444000000006,\n",
       "  53.8666,\n",
       "  -1.6838440000000077],\n",
       " [19.146,\n",
       "  18.9,\n",
       "  -0.24600000000000222,\n",
       "  53.578683999999996,\n",
       "  53.8666,\n",
       "  0.2879160000000027],\n",
       " [19.023,\n",
       "  18.9,\n",
       "  -0.12300000000000111,\n",
       "  54.208470999999996,\n",
       "  53.8666,\n",
       "  -0.3418709999999976]]"
      ]
     },
     "metadata": {},
     "output_type": "display_data"
    },
    {
     "name": "stdout",
     "output_type": "stream",
     "text": [
      "Sigma E: 0.00759999999999863\n",
      "Sigma D: 0.04249739999999704\n",
      "n = 1000000\n"
     ]
    },
    {
     "data": {
      "text/html": [
       "<table><tr><td>E*</td><td>E</td><td>delta E</td><td>D*</td><td>D</td><td>delta D</td></tr><tr><td>18.911534</td><td>18.9</td><td>-0.011534000000001043</td><td>54.077491766844</td><td>53.8666</td><td>-0.21089176684400002</td></tr><tr><td>18.897428</td><td>18.9</td><td>0.002571999999997132</td><td>54.19266298481601</td><td>53.8666</td><td>-0.32606298481601215</td></tr><tr><td>18.893406</td><td>18.9</td><td>0.006593999999999767</td><td>54.02719771916402</td><td>53.8666</td><td>-0.16059771916402354</td></tr><tr><td>18.895745</td><td>18.9</td><td>0.004254999999997011</td><td>54.01224389497501</td><td>53.8666</td><td>-0.1456438949750094</td></tr><tr><td>18.888591</td><td>18.9</td><td>0.011408999999996894</td><td>54.093871034719</td><td>53.8666</td><td>-0.22727103471900278</td></tr><tr><td>18.89074</td><td>18.9</td><td>0.009259999999997603</td><td>53.937884252399996</td><td>53.8666</td><td>-0.07128425239999814</td></tr><tr><td>18.893591</td><td>18.9</td><td>0.006408999999997889</td><td>54.080230124719</td><td>53.8666</td><td>-0.21363012471900333</td></tr><tr><td>18.88524</td><td>18.9</td><td>0.014759999999998996</td><td>54.147704142400016</td><td>53.8666</td><td>-0.281104142400018</td></tr><tr><td>18.901092</td><td>18.9</td><td>-0.0010919999999998709</td><td>53.99687320753601</td><td>53.8666</td><td>-0.130273207536014</td></tr><tr><td>18.895922</td><td>18.9</td><td>0.004077999999999804</td><td>54.000633769916014</td><td>53.8666</td><td>-0.1340337699160159</td></tr></table>"
      ],
      "text/plain": [
       "[['E*', 'E', 'delta E', 'D*', 'D', 'delta D'],\n",
       " [18.911534,\n",
       "  18.9,\n",
       "  -0.011534000000001043,\n",
       "  54.077491766844,\n",
       "  53.8666,\n",
       "  -0.21089176684400002],\n",
       " [18.897428,\n",
       "  18.9,\n",
       "  0.002571999999997132,\n",
       "  54.19266298481601,\n",
       "  53.8666,\n",
       "  -0.32606298481601215],\n",
       " [18.893406,\n",
       "  18.9,\n",
       "  0.006593999999999767,\n",
       "  54.02719771916402,\n",
       "  53.8666,\n",
       "  -0.16059771916402354],\n",
       " [18.895745,\n",
       "  18.9,\n",
       "  0.004254999999997011,\n",
       "  54.01224389497501,\n",
       "  53.8666,\n",
       "  -0.1456438949750094],\n",
       " [18.888591,\n",
       "  18.9,\n",
       "  0.011408999999996894,\n",
       "  54.093871034719,\n",
       "  53.8666,\n",
       "  -0.22727103471900278],\n",
       " [18.89074,\n",
       "  18.9,\n",
       "  0.009259999999997603,\n",
       "  53.937884252399996,\n",
       "  53.8666,\n",
       "  -0.07128425239999814],\n",
       " [18.893591,\n",
       "  18.9,\n",
       "  0.006408999999997889,\n",
       "  54.080230124719,\n",
       "  53.8666,\n",
       "  -0.21363012471900333],\n",
       " [18.88524,\n",
       "  18.9,\n",
       "  0.014759999999998996,\n",
       "  54.147704142400016,\n",
       "  53.8666,\n",
       "  -0.281104142400018],\n",
       " [18.901092,\n",
       "  18.9,\n",
       "  -0.0010919999999998709,\n",
       "  53.99687320753601,\n",
       "  53.8666,\n",
       "  -0.130273207536014],\n",
       " [18.895922,\n",
       "  18.9,\n",
       "  0.004077999999999804,\n",
       "  54.000633769916014,\n",
       "  53.8666,\n",
       "  -0.1340337699160159]]"
      ]
     },
     "metadata": {},
     "output_type": "display_data"
    },
    {
     "name": "stdout",
     "output_type": "stream",
     "text": [
      "Sigma E: 0.004671099999998418\n",
      "Sigma D: -0.19007928974890972\n"
     ]
    }
   ],
   "source": [
    "for i in ns:\n",
    "    table = ListTable()\n",
    "    table.append(['E*', 'E', 'delta E', 'D*', 'D', 'delta D'])\n",
    "    sigmaE = 0\n",
    "    sigmaD = 0\n",
    "    for j in range(k):\n",
    "        shots = make_shots_list(i)\n",
    "        myE = average(shots)\n",
    "        myD = np.var(shots)\n",
    "        table.append([myE, E, E - myE, myD, D, D - myD])\n",
    "        sigmaE += E - myE\n",
    "        sigmaD += D - myD\n",
    "    sigmaE /= k\n",
    "    sigmaD /= k\n",
    "    print(\"n = {}\".format(i))\n",
    "    display(table)\n",
    "    print(\"Sigma E: {}\".format(sigmaE))\n",
    "    print(\"Sigma D: {}\".format(sigmaD))      \n",
    "    "
   ]
  },
  {
   "cell_type": "code",
   "execution_count": 34,
   "metadata": {},
   "outputs": [
    {
     "name": "stdout",
     "output_type": "stream",
     "text": [
      "Коэффицент ассиметрии: -0.4031155223090719\n"
     ]
    }
   ],
   "source": [
    "print(\"Коэффицент ассиметрии: {}\".format(skew(shots)))"
   ]
  },
  {
   "cell_type": "code",
   "execution_count": 35,
   "metadata": {},
   "outputs": [
    {
     "name": "stdout",
     "output_type": "stream",
     "text": [
      "Коэффицент эксцесса: -0.31328450006332975\n"
     ]
    }
   ],
   "source": [
    "print(\"Коэффицент эксцесса: {}\".format(kurtosis(shots)))"
   ]
  },
  {
   "cell_type": "code",
   "execution_count": 36,
   "metadata": {},
   "outputs": [
    {
     "name": "stdout",
     "output_type": "stream",
     "text": [
      "Многоугольник распределения\n"
     ]
    },
    {
     "data": {
      "image/png": "[encoded data removed]",
      "text/plain": [
       "<Figure size 432x288 with 1 Axes>"
      ]
     },
     "metadata": {},
     "output_type": "display_data"
    }
   ],
   "source": [
    "plt.plot(x_table[0], x_table[1]);\n",
    "print(\"Многоугольник распределения\")"
   ]
  },
  {
   "cell_type": "code",
   "execution_count": 37,
   "metadata": {},
   "outputs": [
    {
     "name": "stdout",
     "output_type": "stream",
     "text": [
      "Гистограма распределения\n"
     ]
    },
    {
     "data": {
      "image/png": "[encoded data removed]",
      "text/plain": [
       "<Figure size 432x288 with 1 Axes>"
      ]
     },
     "metadata": {},
     "output_type": "display_data"
    }
   ],
   "source": [
    "def histogram(shots):\n",
    "    return plt.hist(shots, bins='auto')\n",
    "\n",
    "a,b,c = histogram(shots)\n",
    "print(\"Гистограма распределения\")"
   ]
  },
  {
   "cell_type": "code",
   "execution_count": 38,
   "metadata": {},
   "outputs": [
    {
     "data": {
      "text/plain": [
       "[<matplotlib.lines.Line2D at 0x136b09d0>]"
      ]
     },
     "execution_count": 38,
     "metadata": {},
     "output_type": "execute_result"
    },
    {
     "data": {
      "image/png": "[encoded data removed]",
      "text/plain": [
       "<Figure size 432x288 with 1 Axes>"
      ]
     },
     "metadata": {},
     "output_type": "display_data"
    }
   ],
   "source": [
    "def make_cdf(dict):\n",
    "    dict_keys_list = list(dict.keys())\n",
    "    xval = []\n",
    "    yval = []\n",
    "    count = 0\n",
    "    n = len(dict_keys_list)\n",
    "    epsilon = 0.001\n",
    "    for i in dict_keys_list:\n",
    "        xval.append(i-epsilon)\n",
    "        yval.append(count / n)\n",
    "        xval.append(i)\n",
    "        count += 1\n",
    "        yval.append(count / n)\n",
    "        \n",
    "    return xval, yval\n",
    "        \n",
    "xval, yval = make_cdf(x_dict)\n",
    "plt.plot(xval, yval)"
   ]
  },
  {
   "cell_type": "code",
   "execution_count": 39,
   "metadata": {},
   "outputs": [],
   "source": [
    "def prob(series, k):\n",
    "    if k < series[0][0]:\n",
    "        return 0\n",
    "    elif k > series[0][-1]:\n",
    "        return 1\n",
    "    else:\n",
    "        return series[1][np.searchsorted(series[0], k)]\n",
    "    \n",
    "def prob_range(series, k, t):\n",
    "    return prob(series, t) - prob(series, k)"
   ]
  },
  {
   "cell_type": "code",
   "execution_count": 40,
   "metadata": {},
   "outputs": [
    {
     "name": "stdout",
     "output_type": "stream",
     "text": [
      "Вероятность попадания в промежуток [2, 7]: 0.023625\n"
     ]
    }
   ],
   "source": [
    "print(\"Вероятность попадания в промежуток [2, 7]: {0}\".format(prob_range(x_table, 2, 7)))"
   ]
  },
  {
   "cell_type": "code",
   "execution_count": 41,
   "metadata": {},
   "outputs": [],
   "source": [
    "def density(x):\n",
    "    return 1/sqrt(pi) * exp(-(x**2))"
   ]
  },
  {
   "cell_type": "code",
   "execution_count": 42,
   "metadata": {},
   "outputs": [
    {
     "name": "stdout",
     "output_type": "stream",
     "text": [
      "Плотность распределения\n"
     ]
    },
    {
     "data": {
      "image/png": "[encoded data removed]",
      "text/plain": [
       "<Figure size 432x288 with 1 Axes>"
      ]
     },
     "metadata": {},
     "output_type": "display_data"
    }
   ],
   "source": [
    "start = -5\n",
    "step = 0.05\n",
    "steps = -(start + start) / step\n",
    "x_axis = list(map(lambda x : start + step * x, range(0, int(steps))))\n",
    "y_axis = list(map(density, x_axis))\n",
    "plt.plot(x_axis, y_axis);\n",
    "print(\"Плотность распределения\")"
   ]
  },
  {
   "cell_type": "code",
   "execution_count": 43,
   "metadata": {},
   "outputs": [
    {
     "name": "stdout",
     "output_type": "stream",
     "text": [
      "Функция распределения\n"
     ]
    },
    {
     "data": {
      "image/png": "[encoded data removed]",
      "text/plain": [
       "<Figure size 432x288 with 1 Axes>"
      ]
     },
     "metadata": {},
     "output_type": "display_data"
    }
   ],
   "source": [
    "result = list(map(lambda x: integrate.quad(density, -float('inf'), x)[0],x_axis))\n",
    "plt.plot(x_axis, result);\n",
    "print(\"Функция распределения\")"
   ]
  },
  {
   "cell_type": "code",
   "execution_count": 60,
   "metadata": {},
   "outputs": [
    {
     "name": "stdout",
     "output_type": "stream",
     "text": [
      "E: -0.04953676616488993\n",
      "D: 0.36760962118105395\n",
      "0.020180803563163728\n",
      "-0.6840695740072364\n"
     ]
    }
   ],
   "source": [
    "k = 100\n",
    "\n",
    "data = [ random.normalvariate(0, sqrt(1 / pi)) for i in range(0, k)]\n",
    "\n",
    "print(\"E: {0}\".format(average(data)))\n",
    "print(\"D: {0}\".format(np.var(data)))\n",
    "print(skew(data))\n",
    "print(kurtosis(data))"
   ]
  },
  {
   "cell_type": "code",
   "execution_count": 61,
   "metadata": {},
   "outputs": [
    {
     "name": "stdout",
     "output_type": "stream",
     "text": [
      "Гистограма\n"
     ]
    },
    {
     "data": {
      "image/png": "[encoded data removed]",
      "text/plain": [
       "<Figure size 432x288 with 1 Axes>"
      ]
     },
     "metadata": {},
     "output_type": "display_data"
    }
   ],
   "source": [
    "a,b,c = histogram(data);\n",
    "print(\"Гистограма\")"
   ]
  },
  {
   "cell_type": "code",
   "execution_count": 62,
   "metadata": {},
   "outputs": [
    {
     "name": "stdout",
     "output_type": "stream",
     "text": [
      "Статистическая функция распределения\n"
     ]
    },
    {
     "data": {
      "image/png": "[encoded data removed]",
      "text/plain": [
       "<Figure size 432x288 with 1 Axes>"
      ]
     },
     "metadata": {},
     "output_type": "display_data"
    }
   ],
   "source": [
    "a = plt.hist(data, density=True, cumulative=True, label='CDF', histtype='step', bins='auto')\n",
    "print(\"Статистическая функция распределения\")"
   ]
  },
  {
   "cell_type": "code",
   "execution_count": 64,
   "metadata": {},
   "outputs": [
    {
     "data": {
      "image/png": "[encoded data removed]",
      "text/plain": [
       "<Figure size 432x288 with 1 Axes>"
      ]
     },
     "metadata": {},
     "output_type": "display_data"
    }
   ],
   "source": [
    "x2_dict = {}\n",
    "for i in data:\n",
    "    if i not in x2_dict:\n",
    "        x2_dict[i] = 1\n",
    "    else:\n",
    "        x2_dict[i] += 1    \n",
    "\n",
    "x2_dict = collections.OrderedDict(sorted(x2_dict.items()))\n",
    "xval, yval = make_cdf(x2_dict)\n",
    "plt.plot(xval, yval);"
   ]
  },
  {
   "cell_type": "code",
   "execution_count": null,
   "metadata": {},
   "outputs": [],
   "source": []
  }
 ],
 "metadata": {
  "kernelspec": {
   "display_name": "Python 3",
   "language": "python",
   "name": "python3"
  },
  "language_info": {
   "codemirror_mode": {
    "name": "ipython",
    "version": 3
   },
   "file_extension": ".py",
   "mimetype": "text/x-python",
   "name": "python",
   "nbconvert_exporter": "python",
   "pygments_lexer": "ipython3",
   "version": "3.6.4"
  }
 },
 "nbformat": 4,
 "nbformat_minor": 2
}
