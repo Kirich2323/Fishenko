{
 "cells": [
  {
   "cell_type": "code",
   "execution_count": 2,
   "metadata": {},
   "outputs": [],
   "source": [
    "import numpy as np\n",
    "import matplotlib.pyplot as plt\n",
    "import plotly.plotly as py\n",
    "import random\n",
    "from scipy.stats import skew, kurtosis, variation, moment\n",
    "import scipy.integrate as integrate\n",
    "from math import sqrt, exp, pi\n",
    "import math\n",
    "\n",
    "class ListTable(list):\n",
    "    \"\"\" Overridden list class which takes a 2-dimensional list of \n",
    "        the form [[1,2,3],[4,5,6]], and renders an HTML Table in \n",
    "        IPython Notebook. \"\"\"\n",
    "    \n",
    "    def _repr_html_(self):\n",
    "        html = [\"<table>\"]\n",
    "        for row in self:\n",
    "            html.append(\"<tr>\")\n",
    "            \n",
    "            for col in row:\n",
    "                html.append(\"<td>{0}</td>\".format(col))\n",
    "            \n",
    "            \n",
    "            html.append(\"</tr>\")\n",
    "        html.append(\"</table>\")\n",
    "        return ''.join(html)\n",
    "    \n",
    "    def __str__(self):\n",
    "        return self._repr_html_()\n",
    "\n",
    "def average(arr):\n",
    "    res = 0\n",
    "    for i in arr:\n",
    "        res += i\n",
    "    return res / len(arr)\n",
    "\n",
    "def std_sqrt_deviation(arr):\n",
    "    res = 0\n",
    "    avg = average(arr)\n",
    "    for i in arr:\n",
    "        res += (i - avg)**2\n",
    "    return sqrt(res / len(arr))"
   ]
  },
  {
   "cell_type": "code",
   "execution_count": 3,
   "metadata": {},
   "outputs": [
    {
     "name": "stdout",
     "output_type": "stream",
     "text": [
      "n = 10\n"
     ]
    },
    {
     "data": {
      "text/html": [
       "<table><tr><td>P</td><td>P*</td><td>Delta</td></tr><tr><td>0.078991596</td><td>0.0</td><td>0.078991596</td></tr><tr><td>0.078991596</td><td>0.1</td><td>-0.02100840400000001</td></tr><tr><td>0.078991596</td><td>0.2</td><td>-0.12100840400000001</td></tr><tr><td>0.078991596</td><td>0.1</td><td>-0.02100840400000001</td></tr><tr><td>0.078991596</td><td>0.2</td><td>-0.12100840400000001</td></tr><tr><td>0.078991596</td><td>0.0</td><td>0.078991596</td></tr><tr><td>0.078991596</td><td>0.0</td><td>0.078991596</td></tr><tr><td>0.078991596</td><td>0.1</td><td>-0.02100840400000001</td></tr><tr><td>0.078991596</td><td>0.0</td><td>0.078991596</td></tr><tr><td>0.078991596</td><td>0.2</td><td>-0.12100840400000001</td></tr></table>"
      ],
      "text/plain": [
       "[['P', 'P*', 'Delta'],\n",
       " [0.078991596, 0.0, 0.078991596],\n",
       " [0.078991596, 0.1, -0.02100840400000001],\n",
       " [0.078991596, 0.2, -0.12100840400000001],\n",
       " [0.078991596, 0.1, -0.02100840400000001],\n",
       " [0.078991596, 0.2, -0.12100840400000001],\n",
       " [0.078991596, 0.0, 0.078991596],\n",
       " [0.078991596, 0.0, 0.078991596],\n",
       " [0.078991596, 0.1, -0.02100840400000001],\n",
       " [0.078991596, 0.0, 0.078991596],\n",
       " [0.078991596, 0.2, -0.12100840400000001]]"
      ]
     },
     "metadata": {},
     "output_type": "display_data"
    },
    {
     "name": "stdout",
     "output_type": "stream",
     "text": [
      "sigma: -0.011008404000000008\n",
      "\n",
      "n = 100\n"
     ]
    },
    {
     "data": {
      "text/html": [
       "<table><tr><td>P</td><td>P*</td><td>Delta</td></tr><tr><td>0.078991596</td><td>0.07</td><td>0.00899159599999999</td></tr><tr><td>0.078991596</td><td>0.06</td><td>0.018991596</td></tr><tr><td>0.078991596</td><td>0.11</td><td>-0.031008404000000003</td></tr><tr><td>0.078991596</td><td>0.03</td><td>0.048991596</td></tr><tr><td>0.078991596</td><td>0.04</td><td>0.038991595999999996</td></tr><tr><td>0.078991596</td><td>0.08</td><td>-0.0010084040000000044</td></tr><tr><td>0.078991596</td><td>0.08</td><td>-0.0010084040000000044</td></tr><tr><td>0.078991596</td><td>0.1</td><td>-0.02100840400000001</td></tr><tr><td>0.078991596</td><td>0.09</td><td>-0.011008404</td></tr><tr><td>0.078991596</td><td>0.1</td><td>-0.02100840400000001</td></tr></table>"
      ],
      "text/plain": [
       "[['P', 'P*', 'Delta'],\n",
       " [0.078991596, 0.07, 0.00899159599999999],\n",
       " [0.078991596, 0.06, 0.018991596],\n",
       " [0.078991596, 0.11, -0.031008404000000003],\n",
       " [0.078991596, 0.03, 0.048991596],\n",
       " [0.078991596, 0.04, 0.038991595999999996],\n",
       " [0.078991596, 0.08, -0.0010084040000000044],\n",
       " [0.078991596, 0.08, -0.0010084040000000044],\n",
       " [0.078991596, 0.1, -0.02100840400000001],\n",
       " [0.078991596, 0.09, -0.011008404],\n",
       " [0.078991596, 0.1, -0.02100840400000001]]"
      ]
     },
     "metadata": {},
     "output_type": "display_data"
    },
    {
     "name": "stdout",
     "output_type": "stream",
     "text": [
      "sigma: 0.0029915959999999965\n",
      "\n",
      "n = 1000\n"
     ]
    },
    {
     "data": {
      "text/html": [
       "<table><tr><td>P</td><td>P*</td><td>Delta</td></tr><tr><td>0.078991596</td><td>0.086</td><td>-0.007008403999999996</td></tr><tr><td>0.078991596</td><td>0.069</td><td>0.009991595999999991</td></tr><tr><td>0.078991596</td><td>0.087</td><td>-0.008008403999999997</td></tr><tr><td>0.078991596</td><td>0.072</td><td>0.006991596000000003</td></tr><tr><td>0.078991596</td><td>0.071</td><td>0.007991596000000004</td></tr><tr><td>0.078991596</td><td>0.066</td><td>0.012991595999999994</td></tr><tr><td>0.078991596</td><td>0.072</td><td>0.006991596000000003</td></tr><tr><td>0.078991596</td><td>0.086</td><td>-0.007008403999999996</td></tr><tr><td>0.078991596</td><td>0.089</td><td>-0.010008403999999999</td></tr><tr><td>0.078991596</td><td>0.071</td><td>0.007991596000000004</td></tr></table>"
      ],
      "text/plain": [
       "[['P', 'P*', 'Delta'],\n",
       " [0.078991596, 0.086, -0.007008403999999996],\n",
       " [0.078991596, 0.069, 0.009991595999999991],\n",
       " [0.078991596, 0.087, -0.008008403999999997],\n",
       " [0.078991596, 0.072, 0.006991596000000003],\n",
       " [0.078991596, 0.071, 0.007991596000000004],\n",
       " [0.078991596, 0.066, 0.012991595999999994],\n",
       " [0.078991596, 0.072, 0.006991596000000003],\n",
       " [0.078991596, 0.086, -0.007008403999999996],\n",
       " [0.078991596, 0.089, -0.010008403999999999],\n",
       " [0.078991596, 0.071, 0.007991596000000004]]"
      ]
     },
     "metadata": {},
     "output_type": "display_data"
    },
    {
     "name": "stdout",
     "output_type": "stream",
     "text": [
      "sigma: 0.002091596000000001\n",
      "\n",
      "n = 1000000\n"
     ]
    },
    {
     "data": {
      "text/html": [
       "<table><tr><td>P</td><td>P*</td><td>Delta</td></tr><tr><td>0.078991596</td><td>0.079244</td><td>-0.00025240399999999774</td></tr><tr><td>0.078991596</td><td>0.078818</td><td>0.00017359599999999809</td></tr><tr><td>0.078991596</td><td>0.079005</td><td>-1.340400000000852e-05</td></tr><tr><td>0.078991596</td><td>0.078621</td><td>0.0003705960000000008</td></tr><tr><td>0.078991596</td><td>0.078955</td><td>3.659599999999985e-05</td></tr><tr><td>0.078991596</td><td>0.079397</td><td>-0.0004054039999999981</td></tr><tr><td>0.078991596</td><td>0.079292</td><td>-0.0003004040000000041</td></tr><tr><td>0.078991596</td><td>0.079274</td><td>-0.000282404</td></tr><tr><td>0.078991596</td><td>0.078803</td><td>0.0001885959999999992</td></tr><tr><td>0.078991596</td><td>0.079063</td><td>-7.140399999999714e-05</td></tr></table>"
      ],
      "text/plain": [
       "[['P', 'P*', 'Delta'],\n",
       " [0.078991596, 0.079244, -0.00025240399999999774],\n",
       " [0.078991596, 0.078818, 0.00017359599999999809],\n",
       " [0.078991596, 0.079005, -1.340400000000852e-05],\n",
       " [0.078991596, 0.078621, 0.0003705960000000008],\n",
       " [0.078991596, 0.078955, 3.659599999999985e-05],\n",
       " [0.078991596, 0.079397, -0.0004054039999999981],\n",
       " [0.078991596, 0.079292, -0.0003004040000000041],\n",
       " [0.078991596, 0.079274, -0.000282404],\n",
       " [0.078991596, 0.078803, 0.0001885959999999992],\n",
       " [0.078991596, 0.079063, -7.140399999999714e-05]]"
      ]
     },
     "metadata": {},
     "output_type": "display_data"
    },
    {
     "name": "stdout",
     "output_type": "stream",
     "text": [
      "sigma: -5.5604000000000764e-05\n",
      "\n"
     ]
    }
   ],
   "source": [
    "'''Вариант 1.\n",
    "Из колоды (36 карт) наудачу извлекаются 3 карты.\n",
    "Найти вероятность того, что сумма очков этих карт будет равна 21.'''\n",
    "\n",
    "card_types = [2, 3, 4, 6, 7, 8, 9, 10, 11]\n",
    "n = [10, 100, 1000, 10**6]\n",
    "k = 10\n",
    "def make_deck():\n",
    "    cards = []\n",
    "    for i in card_types:\n",
    "        for j in range(0, 4):\n",
    "            cards.append(i)\n",
    "    return cards\n",
    "\n",
    "def draw(cards):\n",
    "    return cards.pop(random.randrange(0, len(cards)))\n",
    "\n",
    "def play():\n",
    "    cards = make_deck()\n",
    "    score = 0\n",
    "    for i in range(0, 3):\n",
    "        score += draw(cards)\n",
    "    return score\n",
    "\n",
    "def make_n_plays(n):\n",
    "    count = 0\n",
    "    plays = []\n",
    "    for i in range(0, n):\n",
    "        p = play()\n",
    "        if p == 21:\n",
    "            count += 1\n",
    "        plays.append(p)\n",
    "    return count / n, plays\n",
    "\n",
    "solution = 0.078991596 #put solution here\n",
    "for j in n:\n",
    "    table = ListTable()\n",
    "    table.append(['P', 'P*', 'Delta'])\n",
    "    sigma = 0\n",
    "    for i in range(0, k):\n",
    "        p, plays = make_n_plays(j)\n",
    "        sigma += solution - p\n",
    "        #table.append([solution, p, solution - p, std_sqrt_deviation(plays)])\n",
    "        table.append([solution, p, solution - p])\n",
    "    \n",
    "    print('n = {}'.format(j))\n",
    "    display(table)\n",
    "    print('sigma: {0}'.format(sigma / k))\n",
    "    print('')"
   ]
  },
  {
   "cell_type": "code",
   "execution_count": 4,
   "metadata": {},
   "outputs": [
    {
     "name": "stdout",
     "output_type": "stream",
     "text": [
      "n = 10\n"
     ]
    },
    {
     "data": {
      "text/html": [
       "<table><tr><td>P</td><td>P*</td><td>Delta</td><td>sigma</td></tr><tr><td>0.1339745962155614</td><td>0.1</td><td>0.0339745962155614</td><td>367.31879858782406</td></tr><tr><td>0.1339745962155614</td><td>0.0</td><td>0.1339745962155614</td><td>236.81122791455334</td></tr><tr><td>0.1339745962155614</td><td>0.1</td><td>0.0339745962155614</td><td>355.1635682219195</td></tr><tr><td>0.1339745962155614</td><td>0.1</td><td>0.0339745962155614</td><td>501.9835584321347</td></tr><tr><td>0.1339745962155614</td><td>0.1</td><td>0.0339745962155614</td><td>485.30922253762617</td></tr><tr><td>0.1339745962155614</td><td>0.1</td><td>0.0339745962155614</td><td>333.864430224276</td></tr><tr><td>0.1339745962155614</td><td>0.0</td><td>0.1339745962155614</td><td>277.3538872294191</td></tr><tr><td>0.1339745962155614</td><td>0.2</td><td>-0.06602540378443861</td><td>410.9473963761912</td></tr><tr><td>0.1339745962155614</td><td>0.0</td><td>0.1339745962155614</td><td>265.8817464992206</td></tr><tr><td>0.1339745962155614</td><td>0.2</td><td>-0.06602540378443861</td><td>452.2543636256896</td></tr></table>"
      ],
      "text/plain": [
       "[['P', 'P*', 'Delta', 'sigma'],\n",
       " [0.1339745962155614, 0.1, 0.0339745962155614, 367.31879858782406],\n",
       " [0.1339745962155614, 0.0, 0.1339745962155614, 236.81122791455334],\n",
       " [0.1339745962155614, 0.1, 0.0339745962155614, 355.1635682219195],\n",
       " [0.1339745962155614, 0.1, 0.0339745962155614, 501.9835584321347],\n",
       " [0.1339745962155614, 0.1, 0.0339745962155614, 485.30922253762617],\n",
       " [0.1339745962155614, 0.1, 0.0339745962155614, 333.864430224276],\n",
       " [0.1339745962155614, 0.0, 0.1339745962155614, 277.3538872294191],\n",
       " [0.1339745962155614, 0.2, -0.06602540378443861, 410.9473963761912],\n",
       " [0.1339745962155614, 0.0, 0.1339745962155614, 265.8817464992206],\n",
       " [0.1339745962155614, 0.2, -0.06602540378443861, 452.2543636256896]]"
      ]
     },
     "metadata": {},
     "output_type": "display_data"
    },
    {
     "name": "stdout",
     "output_type": "stream",
     "text": [
      "\n",
      "n = 100\n"
     ]
    },
    {
     "data": {
      "text/html": [
       "<table><tr><td>P</td><td>P*</td><td>Delta</td><td>sigma</td></tr><tr><td>0.1339745962155614</td><td>0.1</td><td>0.0339745962155614</td><td>453.1520558798218</td></tr><tr><td>0.1339745962155614</td><td>0.13</td><td>0.003974596215561399</td><td>486.95462829070397</td></tr><tr><td>0.1339745962155614</td><td>0.17</td><td>-0.03602540378443861</td><td>494.12134767833123</td></tr><tr><td>0.1339745962155614</td><td>0.14</td><td>-0.00602540378443861</td><td>496.7856294911779</td></tr><tr><td>0.1339745962155614</td><td>0.17</td><td>-0.03602540378443861</td><td>484.9014142145532</td></tr><tr><td>0.1339745962155614</td><td>0.15</td><td>-0.01602540378443859</td><td>483.92541831850934</td></tr><tr><td>0.1339745962155614</td><td>0.08</td><td>0.0539745962155614</td><td>413.23651260644317</td></tr><tr><td>0.1339745962155614</td><td>0.08</td><td>0.0539745962155614</td><td>346.0653159562542</td></tr><tr><td>0.1339745962155614</td><td>0.11</td><td>0.023974596215561403</td><td>424.44427392416327</td></tr><tr><td>0.1339745962155614</td><td>0.12</td><td>0.013974596215561408</td><td>434.7947441798214</td></tr></table>"
      ],
      "text/plain": [
       "[['P', 'P*', 'Delta', 'sigma'],\n",
       " [0.1339745962155614, 0.1, 0.0339745962155614, 453.1520558798218],\n",
       " [0.1339745962155614, 0.13, 0.003974596215561399, 486.95462829070397],\n",
       " [0.1339745962155614, 0.17, -0.03602540378443861, 494.12134767833123],\n",
       " [0.1339745962155614, 0.14, -0.00602540378443861, 496.7856294911779],\n",
       " [0.1339745962155614, 0.17, -0.03602540378443861, 484.9014142145532],\n",
       " [0.1339745962155614, 0.15, -0.01602540378443859, 483.92541831850934],\n",
       " [0.1339745962155614, 0.08, 0.0539745962155614, 413.23651260644317],\n",
       " [0.1339745962155614, 0.08, 0.0539745962155614, 346.0653159562542],\n",
       " [0.1339745962155614, 0.11, 0.023974596215561403, 424.44427392416327],\n",
       " [0.1339745962155614, 0.12, 0.013974596215561408, 434.7947441798214]]"
      ]
     },
     "metadata": {},
     "output_type": "display_data"
    },
    {
     "name": "stdout",
     "output_type": "stream",
     "text": [
      "\n",
      "n = 1000\n"
     ]
    },
    {
     "data": {
      "text/html": [
       "<table><tr><td>P</td><td>P*</td><td>Delta</td><td>sigma</td></tr><tr><td>0.1339745962155614</td><td>0.14</td><td>-0.00602540378443861</td><td>451.5675167587419</td></tr><tr><td>0.1339745962155614</td><td>0.139</td><td>-0.005025403784438609</td><td>446.64689024902816</td></tr><tr><td>0.1339745962155614</td><td>0.122</td><td>0.011974596215561406</td><td>427.0084117378664</td></tr><tr><td>0.1339745962155614</td><td>0.123</td><td>0.010974596215561405</td><td>447.7130324664438</td></tr><tr><td>0.1339745962155614</td><td>0.137</td><td>-0.0030254037844386072</td><td>452.1001185059983</td></tr><tr><td>0.1339745962155614</td><td>0.13</td><td>0.003974596215561399</td><td>443.6450101786607</td></tr><tr><td>0.1339745962155614</td><td>0.152</td><td>-0.018025403784438593</td><td>466.6808294815282</td></tr><tr><td>0.1339745962155614</td><td>0.151</td><td>-0.017025403784438592</td><td>472.6877303015913</td></tr><tr><td>0.1339745962155614</td><td>0.141</td><td>-0.007025403784438583</td><td>449.5621646564541</td></tr><tr><td>0.1339745962155614</td><td>0.142</td><td>-0.008025403784438584</td><td>443.3917364058218</td></tr></table>"
      ],
      "text/plain": [
       "[['P', 'P*', 'Delta', 'sigma'],\n",
       " [0.1339745962155614, 0.14, -0.00602540378443861, 451.5675167587419],\n",
       " [0.1339745962155614, 0.139, -0.005025403784438609, 446.64689024902816],\n",
       " [0.1339745962155614, 0.122, 0.011974596215561406, 427.0084117378664],\n",
       " [0.1339745962155614, 0.123, 0.010974596215561405, 447.7130324664438],\n",
       " [0.1339745962155614, 0.137, -0.0030254037844386072, 452.1001185059983],\n",
       " [0.1339745962155614, 0.13, 0.003974596215561399, 443.6450101786607],\n",
       " [0.1339745962155614, 0.152, -0.018025403784438593, 466.6808294815282],\n",
       " [0.1339745962155614, 0.151, -0.017025403784438592, 472.6877303015913],\n",
       " [0.1339745962155614, 0.141, -0.007025403784438583, 449.5621646564541],\n",
       " [0.1339745962155614, 0.142, -0.008025403784438584, 443.3917364058218]]"
      ]
     },
     "metadata": {},
     "output_type": "display_data"
    },
    {
     "name": "stdout",
     "output_type": "stream",
     "text": [
      "\n",
      "n = 1000000\n"
     ]
    },
    {
     "data": {
      "text/html": [
       "<table><tr><td>P</td><td>P*</td><td>Delta</td><td>sigma</td></tr><tr><td>0.1339745962155614</td><td>0.134379</td><td>-0.00040440378443859504</td><td>446.42054298737037</td></tr><tr><td>0.1339745962155614</td><td>0.133812</td><td>0.0001625962155614169</td><td>446.20315616360233</td></tr><tr><td>0.1339745962155614</td><td>0.133908</td><td>6.659621556140416e-05</td><td>446.15433429551</td></tr><tr><td>0.1339745962155614</td><td>0.134028</td><td>-5.340378443860483e-05</td><td>446.7337432468422</td></tr><tr><td>0.1339745962155614</td><td>0.133577</td><td>0.0003975962155614021</td><td>445.9714487344992</td></tr><tr><td>0.1339745962155614</td><td>0.133808</td><td>0.00016659621556139315</td><td>446.10160292720815</td></tr><tr><td>0.1339745962155614</td><td>0.133874</td><td>0.00010059621556141041</td><td>446.2572866953564</td></tr><tr><td>0.1339745962155614</td><td>0.133513</td><td>0.0004615962155614106</td><td>446.019739726166</td></tr><tr><td>0.1339745962155614</td><td>0.133995</td><td>-2.040378443859958e-05</td><td>446.4624254590703</td></tr><tr><td>0.1339745962155614</td><td>0.133751</td><td>0.00022359621556139464</td><td>446.13169717935784</td></tr></table>"
      ],
      "text/plain": [
       "[['P', 'P*', 'Delta', 'sigma'],\n",
       " [0.1339745962155614, 0.134379, -0.00040440378443859504, 446.42054298737037],\n",
       " [0.1339745962155614, 0.133812, 0.0001625962155614169, 446.20315616360233],\n",
       " [0.1339745962155614, 0.133908, 6.659621556140416e-05, 446.15433429551],\n",
       " [0.1339745962155614, 0.134028, -5.340378443860483e-05, 446.7337432468422],\n",
       " [0.1339745962155614, 0.133577, 0.0003975962155614021, 445.9714487344992],\n",
       " [0.1339745962155614, 0.133808, 0.00016659621556139315, 446.10160292720815],\n",
       " [0.1339745962155614, 0.133874, 0.00010059621556141041, 446.2572866953564],\n",
       " [0.1339745962155614, 0.133513, 0.0004615962155614106, 446.019739726166],\n",
       " [0.1339745962155614, 0.133995, -2.040378443859958e-05, 446.4624254590703],\n",
       " [0.1339745962155614, 0.133751, 0.00022359621556139464, 446.13169717935784]]"
      ]
     },
     "metadata": {},
     "output_type": "display_data"
    },
    {
     "name": "stdout",
     "output_type": "stream",
     "text": [
      "\n"
     ]
    }
   ],
   "source": [
    "'''Вариант 5.\n",
    "В круге радиуса R проводятся хорды параллельно заданному направлению.\n",
    "Какова вероятность того, что длина наугад взятой хорды не более R,\n",
    "если равновозможны любые положения точек пересечения хорды с диаметром,\n",
    "перпендикулярным выбранному направлению?'''\n",
    "\n",
    "R = 1000\n",
    "k = 10\n",
    "\n",
    "def draw_chord():\n",
    "    return sqrt(R**2 - random.uniform(0, R)**2) * 2\n",
    "\n",
    "def make_n_attempts(n):\n",
    "    count = 0\n",
    "    attempts = []\n",
    "    for i in range(0, n):\n",
    "        chord = draw_chord()\n",
    "        count += chord <= R\n",
    "        attempts.append(chord)\n",
    "    return count / n, attempts\n",
    "\n",
    "solution = 1 - sqrt(3)/2\n",
    "for j in n:\n",
    "    table = ListTable()\n",
    "    table.append(['P', 'P*', 'Delta', 'sigma'])\n",
    "    for i in range(0, k):\n",
    "        p, attempts = make_n_attempts(j)\n",
    "        table.append([solution, p, solution - p, std_sqrt_deviation(attempts)])\n",
    "        #print(p)\n",
    "        #print(std_sqrt_deviation(attempts))\n",
    "    print('n = {}'.format(j))\n",
    "    display(table)\n",
    "    print('')"
   ]
  },
  {
   "cell_type": "code",
   "execution_count": 5,
   "metadata": {},
   "outputs": [],
   "source": [
    "def shot():\n",
    "    v = random.uniform(0.0,1.0)\n",
    "    if v < 0.5:\n",
    "        return 10\n",
    "    elif v < 0.8:\n",
    "        return 5\n",
    "    else:\n",
    "        return -1\n",
    "    \n",
    "def make_shots():\n",
    "    res = 0\n",
    "    for i in range(0, 3):\n",
    "        res += shot()\n",
    "    return res\n",
    "\n",
    "def make_shots_list(n):\n",
    "    res = []\n",
    "    for i in range(0, n):\n",
    "        res.append(make_shots())\n",
    "    return res\n",
    "\n",
    "def cdf(shots):\n",
    "    data = np.cumsum(np.histogram(shots, bins=auto, density=True))\n",
    "        \n",
    "shots = make_shots_list(100000)"
   ]
  },
  {
   "cell_type": "code",
   "execution_count": 6,
   "metadata": {},
   "outputs": [
    {
     "data": {
      "text/html": [
       "<table><tr><td>-3</td><td>3</td><td>8</td><td>9</td><td>14</td><td>15</td><td>19</td><td>20</td><td>25</td><td>30</td></tr><tr><td>0.00791</td><td>0.03622</td><td>0.06029</td><td>0.05401</td><td>0.17922</td><td>0.02724</td><td>0.14975</td><td>0.13329</td><td>0.22705</td><td>0.12502</td></tr></table>"
      ],
      "text/plain": [
       "[[-3, 3, 8, 9, 14, 15, 19, 20, 25, 30],\n",
       " [0.00791,\n",
       "  0.03622,\n",
       "  0.06029,\n",
       "  0.05401,\n",
       "  0.17922,\n",
       "  0.02724,\n",
       "  0.14975,\n",
       "  0.13329,\n",
       "  0.22705,\n",
       "  0.12502]]"
      ]
     },
     "execution_count": 6,
     "metadata": {},
     "output_type": "execute_result"
    }
   ],
   "source": [
    "import collections\n",
    "x_dict = {}\n",
    "for i in shots:\n",
    "    if i not in x_dict:\n",
    "        x_dict[i] = 1\n",
    "    else:\n",
    "        x_dict[i] += 1    \n",
    "x_dict = collections.OrderedDict(sorted(x_dict.items()))\n",
    "x_table = ListTable()\n",
    "x_table.append([])\n",
    "x_table.append([])\n",
    "n = len(shots)\n",
    "for i, k in x_dict.items():\n",
    "    x_table[0].append(i)\n",
    "    x_table[1].append(k / n)\n",
    "x_table"
   ]
  },
  {
   "cell_type": "code",
   "execution_count": 7,
   "metadata": {},
   "outputs": [
    {
     "data": {
      "text/plain": [
       "[<matplotlib.lines.Line2D at 0x15fe19f0>]"
      ]
     },
     "execution_count": 7,
     "metadata": {},
     "output_type": "execute_result"
    },
    {
     "data": {
      "image/png": "[encoded data removed]",
      "text/plain": [
       "<Figure size 432x288 with 1 Axes>"
      ]
     },
     "metadata": {},
     "output_type": "display_data"
    }
   ],
   "source": [
    "plt.plot(x_table[0], x_table[1])"
   ]
  },
  {
   "cell_type": "code",
   "execution_count": 8,
   "metadata": {},
   "outputs": [
    {
     "data": {
      "image/png": "[encoded data removed]",
      "text/plain": [
       "<Figure size 432x288 with 1 Axes>"
      ]
     },
     "metadata": {},
     "output_type": "display_data"
    }
   ],
   "source": [
    "def histogram(shots):\n",
    "    return plt.hist(shots, bins='auto')\n",
    "\n",
    "a,b,c = histogram(shots)"
   ]
  },
  {
   "cell_type": "code",
   "execution_count": 9,
   "metadata": {
    "scrolled": true
   },
   "outputs": [
    {
     "name": "stderr",
     "output_type": "stream",
     "text": [
      "c:\\users\\kirich\\appdata\\local\\programs\\python\\python36-32\\lib\\site-packages\\matplotlib\\axes\\_axes.py:6448: UserWarning:\n",
      "\n",
      "The 'normed' kwarg is deprecated, and has been replaced by the 'density' kwarg.\n",
      "\n"
     ]
    },
    {
     "data": {
      "image/png": "[encoded data removed]",
      "text/plain": [
       "<Figure size 432x288 with 1 Axes>"
      ]
     },
     "metadata": {},
     "output_type": "display_data"
    }
   ],
   "source": [
    "def cdf_plot(shots):\n",
    "    plt.hist(shots, normed=True, cumulative=True, label='CDF', histtype='step', range=(-3, 30))\n",
    "cdf_plot(shots)"
   ]
  },
  {
   "cell_type": "code",
   "execution_count": 10,
   "metadata": {},
   "outputs": [
    {
     "name": "stdout",
     "output_type": "stream",
     "text": [
      "E: 18.90892\n"
     ]
    }
   ],
   "source": [
    "print(\"E: {0}\".format(average(shots)))"
   ]
  },
  {
   "cell_type": "code",
   "execution_count": 11,
   "metadata": {
    "scrolled": true
   },
   "outputs": [
    {
     "name": "stdout",
     "output_type": "stream",
     "text": [
      "D: 54.1394044336\n"
     ]
    }
   ],
   "source": [
    "print(\"D: {0}\".format(np.var(shots)))"
   ]
  },
  {
   "cell_type": "code",
   "execution_count": 12,
   "metadata": {},
   "outputs": [
    {
     "name": "stdout",
     "output_type": "stream",
     "text": [
      "-0.40319101402052243\n"
     ]
    }
   ],
   "source": [
    "print(skew(shots))"
   ]
  },
  {
   "cell_type": "code",
   "execution_count": 13,
   "metadata": {},
   "outputs": [
    {
     "name": "stdout",
     "output_type": "stream",
     "text": [
      "-0.3279192883818909\n"
     ]
    }
   ],
   "source": [
    "print(kurtosis(shots))"
   ]
  },
  {
   "cell_type": "code",
   "execution_count": 14,
   "metadata": {},
   "outputs": [
    {
     "data": {
      "text/plain": [
       "0.02407"
      ]
     },
     "execution_count": 14,
     "metadata": {},
     "output_type": "execute_result"
    }
   ],
   "source": [
    "def prob(series, k):\n",
    "    if k < series[0][0]:\n",
    "        return 0\n",
    "    elif k > series[0][-1]:\n",
    "        return 1\n",
    "    else:\n",
    "        return series[1][np.searchsorted(series[0], k)]\n",
    "    \n",
    "def prob_range(series, k, t):\n",
    "    return prob(series, t) - prob(series, k)\n",
    "\n",
    "prob_range(x_table, 2, 7)"
   ]
  },
  {
   "cell_type": "code",
   "execution_count": 15,
   "metadata": {},
   "outputs": [
    {
     "data": {
      "text/plain": [
       "0.0"
      ]
     },
     "execution_count": 15,
     "metadata": {},
     "output_type": "execute_result"
    }
   ],
   "source": [
    "def density(x):\n",
    "    return 1/sqrt(pi) * exp(-(x**2))\n",
    "\n",
    "density(40)"
   ]
  },
  {
   "cell_type": "code",
   "execution_count": 16,
   "metadata": {},
   "outputs": [
    {
     "data": {
      "text/plain": [
       "[<matplotlib.lines.Line2D at 0x15f66bf0>]"
      ]
     },
     "execution_count": 16,
     "metadata": {},
     "output_type": "execute_result"
    },
    {
     "data": {
      "image/png": "[encoded data removed]",
      "text/plain": [
       "<Figure size 432x288 with 1 Axes>"
      ]
     },
     "metadata": {},
     "output_type": "display_data"
    }
   ],
   "source": [
    "start = -5\n",
    "step = 0.05\n",
    "steps = -(start + start) / step\n",
    "x_axis = list(map(lambda x : start + step * x, range(0, int(steps))))\n",
    "y_axis = list(map(density, x_axis))\n",
    "plt.plot(x_axis, y_axis)"
   ]
  },
  {
   "cell_type": "code",
   "execution_count": 17,
   "metadata": {},
   "outputs": [
    {
     "data": {
      "text/plain": [
       "[<matplotlib.lines.Line2D at 0x14f5e050>]"
      ]
     },
     "execution_count": 17,
     "metadata": {},
     "output_type": "execute_result"
    },
    {
     "data": {
      "image/png": "[encoded data removed]",
      "text/plain": [
       "<Figure size 432x288 with 1 Axes>"
      ]
     },
     "metadata": {},
     "output_type": "display_data"
    }
   ],
   "source": [
    "result = list(map(lambda x: integrate.quad(density, -math.inf, x)[0],x_axis))\n",
    "plt.plot(x_axis, result)"
   ]
  },
  {
   "cell_type": "code",
   "execution_count": 18,
   "metadata": {},
   "outputs": [
    {
     "name": "stdout",
     "output_type": "stream",
     "text": [
      "E: -2.7223440858943376e-05\n",
      "D: 0.3166919559696123\n",
      "-0.009267235239538547\n",
      "0.0014834545678223954\n"
     ]
    }
   ],
   "source": [
    "k = 100000\n",
    "data = [ random.normalvariate(0, sqrt(1 / pi)) for i in range(0, k)]\n",
    "\n",
    "print(\"E: {0}\".format(average(data)))\n",
    "print(\"D: {0}\".format(np.var(data)))\n",
    "print(skew(data))\n",
    "print(kurtosis(data))"
   ]
  },
  {
   "cell_type": "code",
   "execution_count": 19,
   "metadata": {},
   "outputs": [
    {
     "data": {
      "image/png": "[encoded data removed]",
      "text/plain": [
       "<Figure size 432x288 with 1 Axes>"
      ]
     },
     "metadata": {},
     "output_type": "display_data"
    }
   ],
   "source": [
    "a,b,c = histogram(data)"
   ]
  },
  {
   "cell_type": "code",
   "execution_count": 20,
   "metadata": {},
   "outputs": [
    {
     "name": "stderr",
     "output_type": "stream",
     "text": [
      "c:\\users\\kirich\\appdata\\local\\programs\\python\\python36-32\\lib\\site-packages\\matplotlib\\axes\\_axes.py:6448: UserWarning:\n",
      "\n",
      "The 'normed' kwarg is deprecated, and has been replaced by the 'density' kwarg.\n",
      "\n"
     ]
    },
    {
     "data": {
      "image/png": "[encoded data removed]",
      "text/plain": [
       "<Figure size 432x288 with 1 Axes>"
      ]
     },
     "metadata": {},
     "output_type": "display_data"
    }
   ],
   "source": [
    "a = plt.hist(data, normed=True, cumulative=True, label='CDF', histtype='step', bins='auto')"
   ]
  },
  {
   "cell_type": "code",
   "execution_count": null,
   "metadata": {},
   "outputs": [],
   "source": []
  }
 ],
 "metadata": {
  "kernelspec": {
   "display_name": "Python 3",
   "language": "python",
   "name": "python3"
  },
  "language_info": {
   "codemirror_mode": {
    "name": "ipython",
    "version": 3
   },
   "file_extension": ".py",
   "mimetype": "text/x-python",
   "name": "python",
   "nbconvert_exporter": "python",
   "pygments_lexer": "ipython3",
   "version": "3.6.4"
  }
 },
 "nbformat": 4,
 "nbformat_minor": 2
}
