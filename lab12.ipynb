{
 "cells": [
  {
   "cell_type": "code",
   "execution_count": 384,
   "metadata": {},
   "outputs": [],
   "source": [
    "class ListTable(list):\n",
    "    \"\"\" Overridden list class which takes a 2-dimensional list of \n",
    "        the form [[1,2,3],[4,5,6]], and renders an HTML Table in \n",
    "        IPython Notebook. \"\"\"\n",
    "    \n",
    "    def _repr_html_(self):\n",
    "        html = [\"<table>\"]\n",
    "        for row in self:\n",
    "            html.append(\"<tr>\")\n",
    "            \n",
    "            for col in row:\n",
    "                html.append(\"<td>{0}</td>\".format(col))\n",
    "            \n",
    "            \n",
    "            html.append(\"</tr>\")\n",
    "        html.append(\"</table>\")\n",
    "        return ''.join(html)\n",
    "    \n",
    "    def __str__(self):\n",
    "        return self._repr_html_()\n",
    "\n",
    "def average(arr):\n",
    "    res = 0\n",
    "    for i in arr:\n",
    "        res += i\n",
    "    return res / len(arr)\n",
    "\n",
    "def std_sqrt_deviation(arr):\n",
    "    res = 0\n",
    "    avg = average(arr)\n",
    "    for i in arr:\n",
    "        res += (i - avg)**2\n",
    "    return sqrt(res / len(arr))"
   ]
  },
  {
   "cell_type": "code",
   "execution_count": 385,
   "metadata": {},
   "outputs": [
    {
     "name": "stdout",
     "output_type": "stream",
     "text": [
      "n = 10\n"
     ]
    },
    {
     "data": {
      "text/html": [
       "<table><tr><td>P</td><td>P*</td><td>Delta</td><td>sigma</td></tr><tr><td>0.078991596</td><td>0.1</td><td>-0.02100840400000001</td><td>4.476605857119878</td></tr><tr><td>0.078991596</td><td>0.2</td><td>-0.12100840400000001</td><td>6.356099432828281</td></tr><tr><td>0.078991596</td><td>0.0</td><td>0.078991596</td><td>4.386342439892261</td></tr><tr><td>0.078991596</td><td>0.0</td><td>0.078991596</td><td>2.6248809496813377</td></tr><tr><td>0.078991596</td><td>0.1</td><td>-0.02100840400000001</td><td>3.9560080889704965</td></tr><tr><td>0.078991596</td><td>0.2</td><td>-0.12100840400000001</td><td>5.075431016179809</td></tr><tr><td>0.078991596</td><td>0.0</td><td>0.078991596</td><td>3.5510561809129406</td></tr><tr><td>0.078991596</td><td>0.1</td><td>-0.02100840400000001</td><td>5.6000000000000005</td></tr><tr><td>0.078991596</td><td>0.2</td><td>-0.12100840400000001</td><td>3.6180105030251086</td></tr><tr><td>0.078991596</td><td>0.0</td><td>0.078991596</td><td>6.331666447310692</td></tr></table>"
      ],
      "text/plain": [
       "[['P', 'P*', 'Delta', 'sigma'],\n",
       " [0.078991596, 0.1, -0.02100840400000001, 4.476605857119878],\n",
       " [0.078991596, 0.2, -0.12100840400000001, 6.356099432828281],\n",
       " [0.078991596, 0.0, 0.078991596, 4.386342439892261],\n",
       " [0.078991596, 0.0, 0.078991596, 2.6248809496813377],\n",
       " [0.078991596, 0.1, -0.02100840400000001, 3.9560080889704965],\n",
       " [0.078991596, 0.2, -0.12100840400000001, 5.075431016179809],\n",
       " [0.078991596, 0.0, 0.078991596, 3.5510561809129406],\n",
       " [0.078991596, 0.1, -0.02100840400000001, 5.6000000000000005],\n",
       " [0.078991596, 0.2, -0.12100840400000001, 3.6180105030251086],\n",
       " [0.078991596, 0.0, 0.078991596, 6.331666447310692]]"
      ]
     },
     "metadata": {},
     "output_type": "display_data"
    },
    {
     "name": "stdout",
     "output_type": "stream",
     "text": [
      "\n",
      "n = 100\n"
     ]
    },
    {
     "data": {
      "text/html": [
       "<table><tr><td>P</td><td>P*</td><td>Delta</td><td>sigma</td></tr><tr><td>0.078991596</td><td>0.07</td><td>0.00899159599999999</td><td>5.280634431581115</td></tr><tr><td>0.078991596</td><td>0.08</td><td>-0.0010084040000000044</td><td>5.072228307164416</td></tr><tr><td>0.078991596</td><td>0.07</td><td>0.00899159599999999</td><td>4.47538825131407</td></tr><tr><td>0.078991596</td><td>0.09</td><td>-0.011008404</td><td>5.192301994298868</td></tr><tr><td>0.078991596</td><td>0.07</td><td>0.00899159599999999</td><td>5.073499778259579</td></tr><tr><td>0.078991596</td><td>0.08</td><td>-0.0010084040000000044</td><td>5.03756885809018</td></tr><tr><td>0.078991596</td><td>0.06</td><td>0.018991596</td><td>4.892228531047991</td></tr><tr><td>0.078991596</td><td>0.07</td><td>0.00899159599999999</td><td>5.218198923000156</td></tr><tr><td>0.078991596</td><td>0.1</td><td>-0.02100840400000001</td><td>4.889775045950479</td></tr><tr><td>0.078991596</td><td>0.09</td><td>-0.011008404</td><td>4.6829477895872405</td></tr></table>"
      ],
      "text/plain": [
       "[['P', 'P*', 'Delta', 'sigma'],\n",
       " [0.078991596, 0.07, 0.00899159599999999, 5.280634431581115],\n",
       " [0.078991596, 0.08, -0.0010084040000000044, 5.072228307164416],\n",
       " [0.078991596, 0.07, 0.00899159599999999, 4.47538825131407],\n",
       " [0.078991596, 0.09, -0.011008404, 5.192301994298868],\n",
       " [0.078991596, 0.07, 0.00899159599999999, 5.073499778259579],\n",
       " [0.078991596, 0.08, -0.0010084040000000044, 5.03756885809018],\n",
       " [0.078991596, 0.06, 0.018991596, 4.892228531047991],\n",
       " [0.078991596, 0.07, 0.00899159599999999, 5.218198923000156],\n",
       " [0.078991596, 0.1, -0.02100840400000001, 4.889775045950479],\n",
       " [0.078991596, 0.09, -0.011008404, 4.6829477895872405]]"
      ]
     },
     "metadata": {},
     "output_type": "display_data"
    },
    {
     "name": "stdout",
     "output_type": "stream",
     "text": [
      "\n",
      "n = 1000\n"
     ]
    },
    {
     "data": {
      "text/html": [
       "<table><tr><td>P</td><td>P*</td><td>Delta</td><td>sigma</td></tr><tr><td>0.078991596</td><td>0.076</td><td>0.002991595999999999</td><td>4.924370416611648</td></tr><tr><td>0.078991596</td><td>0.073</td><td>0.005991596000000002</td><td>4.961697189470556</td></tr><tr><td>0.078991596</td><td>0.065</td><td>0.013991595999999995</td><td>5.072804352623901</td></tr><tr><td>0.078991596</td><td>0.073</td><td>0.005991596000000002</td><td>5.144841202602858</td></tr><tr><td>0.078991596</td><td>0.082</td><td>-0.003008404000000006</td><td>5.062318737495696</td></tr><tr><td>0.078991596</td><td>0.078</td><td>0.0009915959999999974</td><td>5.261980520678504</td></tr><tr><td>0.078991596</td><td>0.073</td><td>0.005991596000000002</td><td>4.848883479730156</td></tr><tr><td>0.078991596</td><td>0.08</td><td>-0.0010084040000000044</td><td>5.136114387355479</td></tr><tr><td>0.078991596</td><td>0.069</td><td>0.009991595999999991</td><td>4.999163029948108</td></tr><tr><td>0.078991596</td><td>0.072</td><td>0.006991596000000003</td><td>5.039952281520135</td></tr></table>"
      ],
      "text/plain": [
       "[['P', 'P*', 'Delta', 'sigma'],\n",
       " [0.078991596, 0.076, 0.002991595999999999, 4.924370416611648],\n",
       " [0.078991596, 0.073, 0.005991596000000002, 4.961697189470556],\n",
       " [0.078991596, 0.065, 0.013991595999999995, 5.072804352623901],\n",
       " [0.078991596, 0.073, 0.005991596000000002, 5.144841202602858],\n",
       " [0.078991596, 0.082, -0.003008404000000006, 5.062318737495696],\n",
       " [0.078991596, 0.078, 0.0009915959999999974, 5.261980520678504],\n",
       " [0.078991596, 0.073, 0.005991596000000002, 4.848883479730156],\n",
       " [0.078991596, 0.08, -0.0010084040000000044, 5.136114387355479],\n",
       " [0.078991596, 0.069, 0.009991595999999991, 4.999163029948108],\n",
       " [0.078991596, 0.072, 0.006991596000000003, 5.039952281520135]]"
      ]
     },
     "metadata": {},
     "output_type": "display_data"
    },
    {
     "name": "stdout",
     "output_type": "stream",
     "text": [
      "\n",
      "n = 1000000\n"
     ]
    },
    {
     "data": {
      "text/html": [
       "<table><tr><td>P</td><td>P*</td><td>Delta</td><td>sigma</td></tr><tr><td>0.078991596</td><td>0.078519</td><td>0.0004725959999999918</td><td>5.011985220419695</td></tr><tr><td>0.078991596</td><td>0.079181</td><td>-0.00018940400000000412</td><td>5.019091981164387</td></tr><tr><td>0.078991596</td><td>0.079352</td><td>-0.0003604040000000086</td><td>5.0144188405990535</td></tr><tr><td>0.078991596</td><td>0.079988</td><td>-0.0009964040000000063</td><td>5.00912472456963</td></tr><tr><td>0.078991596</td><td>0.079252</td><td>-0.00026040400000000574</td><td>5.014610226065777</td></tr><tr><td>0.078991596</td><td>0.078959</td><td>3.259599999999585e-05</td><td>5.014612025799178</td></tr><tr><td>0.078991596</td><td>0.079427</td><td>-0.00043540400000000035</td><td>5.015437555429993</td></tr><tr><td>0.078991596</td><td>0.07841</td><td>0.0005815960000000037</td><td>5.014025572287721</td></tr><tr><td>0.078991596</td><td>0.079037</td><td>-4.540399999999889e-05</td><td>5.0122291263507</td></tr><tr><td>0.078991596</td><td>0.078922</td><td>6.959599999999122e-05</td><td>5.01134348950104</td></tr></table>"
      ],
      "text/plain": [
       "[['P', 'P*', 'Delta', 'sigma'],\n",
       " [0.078991596, 0.078519, 0.0004725959999999918, 5.011985220419695],\n",
       " [0.078991596, 0.079181, -0.00018940400000000412, 5.019091981164387],\n",
       " [0.078991596, 0.079352, -0.0003604040000000086, 5.0144188405990535],\n",
       " [0.078991596, 0.079988, -0.0009964040000000063, 5.00912472456963],\n",
       " [0.078991596, 0.079252, -0.00026040400000000574, 5.014610226065777],\n",
       " [0.078991596, 0.078959, 3.259599999999585e-05, 5.014612025799178],\n",
       " [0.078991596, 0.079427, -0.00043540400000000035, 5.015437555429993],\n",
       " [0.078991596, 0.07841, 0.0005815960000000037, 5.014025572287721],\n",
       " [0.078991596, 0.079037, -4.540399999999889e-05, 5.0122291263507],\n",
       " [0.078991596, 0.078922, 6.959599999999122e-05, 5.01134348950104]]"
      ]
     },
     "metadata": {},
     "output_type": "display_data"
    },
    {
     "name": "stdout",
     "output_type": "stream",
     "text": [
      "\n"
     ]
    }
   ],
   "source": [
    "'''Вариант 1.\n",
    "Из колоды (36 карт) наудачу извлекаются 3 карты.\n",
    "Найти вероятность того, что сумма очков этих карт будет равна 21.'''\n",
    "\n",
    "card_types = [2, 3, 4, 6, 7, 8, 9, 10, 11]\n",
    "n = [10, 100, 1000, 10**6]\n",
    "k = 10\n",
    "def make_deck():\n",
    "    cards = []\n",
    "    for i in card_types:\n",
    "        for j in range(0, 4):\n",
    "            cards.append(i)\n",
    "    return cards\n",
    "\n",
    "def draw(cards):\n",
    "    return cards.pop(random.randrange(0, len(cards)))\n",
    "\n",
    "def play():\n",
    "    cards = make_deck()\n",
    "    score = 0\n",
    "    for i in range(0, 3):\n",
    "        score += draw(cards)\n",
    "    return score\n",
    "\n",
    "def make_n_plays(n):\n",
    "    count = 0\n",
    "    plays = []\n",
    "    for i in range(0, n):\n",
    "        p = play()\n",
    "        if p == 21:\n",
    "            count += 1\n",
    "        plays.append(p)\n",
    "    return count / n, plays\n",
    "\n",
    "solution = 0.078991596 #put solution here\n",
    "for j in n:\n",
    "    table = ListTable()\n",
    "    table.append(['P', 'P*', 'Delta', 'sigma'])\n",
    "    for i in range(0, k):\n",
    "        p, plays = make_n_plays(j)\n",
    "        table.append([solution, p, solution - p, std_sqrt_deviation(plays)])\n",
    "    \n",
    "    print('n = {}'.format(j))\n",
    "    display(table)\n",
    "    print('')"
   ]
  },
  {
   "cell_type": "code",
   "execution_count": 386,
   "metadata": {},
   "outputs": [
    {
     "name": "stdout",
     "output_type": "stream",
     "text": [
      "n = 10\n"
     ]
    },
    {
     "data": {
      "text/html": [
       "<table><tr><td>P</td><td>P*</td><td>Delta</td><td>sigma</td></tr><tr><td>0.1339745962155614</td><td>0.1</td><td>0.0339745962155614</td><td>468.13995504083465</td></tr><tr><td>0.1339745962155614</td><td>0.2</td><td>-0.06602540378443861</td><td>579.00988118706</td></tr><tr><td>0.1339745962155614</td><td>0.0</td><td>0.1339745962155614</td><td>205.76156549111528</td></tr><tr><td>0.1339745962155614</td><td>0.1</td><td>0.0339745962155614</td><td>426.0959644798917</td></tr><tr><td>0.1339745962155614</td><td>0.2</td><td>-0.06602540378443861</td><td>486.9777157795273</td></tr><tr><td>0.1339745962155614</td><td>0.1</td><td>0.0339745962155614</td><td>295.86932634553244</td></tr><tr><td>0.1339745962155614</td><td>0.3</td><td>-0.16602540378443859</td><td>607.257602831412</td></tr><tr><td>0.1339745962155614</td><td>0.1</td><td>0.0339745962155614</td><td>417.33474625411475</td></tr><tr><td>0.1339745962155614</td><td>0.3</td><td>-0.16602540378443859</td><td>460.4260839528391</td></tr><tr><td>0.1339745962155614</td><td>0.2</td><td>-0.06602540378443861</td><td>501.250590040144</td></tr></table>"
      ],
      "text/plain": [
       "[['P', 'P*', 'Delta', 'sigma'],\n",
       " [0.1339745962155614, 0.1, 0.0339745962155614, 468.13995504083465],\n",
       " [0.1339745962155614, 0.2, -0.06602540378443861, 579.00988118706],\n",
       " [0.1339745962155614, 0.0, 0.1339745962155614, 205.76156549111528],\n",
       " [0.1339745962155614, 0.1, 0.0339745962155614, 426.0959644798917],\n",
       " [0.1339745962155614, 0.2, -0.06602540378443861, 486.9777157795273],\n",
       " [0.1339745962155614, 0.1, 0.0339745962155614, 295.86932634553244],\n",
       " [0.1339745962155614, 0.3, -0.16602540378443859, 607.257602831412],\n",
       " [0.1339745962155614, 0.1, 0.0339745962155614, 417.33474625411475],\n",
       " [0.1339745962155614, 0.3, -0.16602540378443859, 460.4260839528391],\n",
       " [0.1339745962155614, 0.2, -0.06602540378443861, 501.250590040144]]"
      ]
     },
     "metadata": {},
     "output_type": "display_data"
    },
    {
     "name": "stdout",
     "output_type": "stream",
     "text": [
      "\n",
      "n = 100\n"
     ]
    },
    {
     "data": {
      "text/html": [
       "<table><tr><td>P</td><td>P*</td><td>Delta</td><td>sigma</td></tr><tr><td>0.1339745962155614</td><td>0.13</td><td>0.003974596215561399</td><td>455.25030603920754</td></tr><tr><td>0.1339745962155614</td><td>0.15</td><td>-0.01602540378443859</td><td>454.69806579182864</td></tr><tr><td>0.1339745962155614</td><td>0.22</td><td>-0.0860254037844386</td><td>530.7729731982118</td></tr><tr><td>0.1339745962155614</td><td>0.15</td><td>-0.01602540378443859</td><td>441.49578658902095</td></tr><tr><td>0.1339745962155614</td><td>0.16</td><td>-0.0260254037844386</td><td>461.44263710985047</td></tr><tr><td>0.1339745962155614</td><td>0.17</td><td>-0.03602540378443861</td><td>445.74672460297734</td></tr><tr><td>0.1339745962155614</td><td>0.16</td><td>-0.0260254037844386</td><td>476.9965774606272</td></tr><tr><td>0.1339745962155614</td><td>0.22</td><td>-0.0860254037844386</td><td>489.333572526271</td></tr><tr><td>0.1339745962155614</td><td>0.17</td><td>-0.03602540378443861</td><td>447.963544974576</td></tr><tr><td>0.1339745962155614</td><td>0.23</td><td>-0.0960254037844386</td><td>503.17410985843367</td></tr></table>"
      ],
      "text/plain": [
       "[['P', 'P*', 'Delta', 'sigma'],\n",
       " [0.1339745962155614, 0.13, 0.003974596215561399, 455.25030603920754],\n",
       " [0.1339745962155614, 0.15, -0.01602540378443859, 454.69806579182864],\n",
       " [0.1339745962155614, 0.22, -0.0860254037844386, 530.7729731982118],\n",
       " [0.1339745962155614, 0.15, -0.01602540378443859, 441.49578658902095],\n",
       " [0.1339745962155614, 0.16, -0.0260254037844386, 461.44263710985047],\n",
       " [0.1339745962155614, 0.17, -0.03602540378443861, 445.74672460297734],\n",
       " [0.1339745962155614, 0.16, -0.0260254037844386, 476.9965774606272],\n",
       " [0.1339745962155614, 0.22, -0.0860254037844386, 489.333572526271],\n",
       " [0.1339745962155614, 0.17, -0.03602540378443861, 447.963544974576],\n",
       " [0.1339745962155614, 0.23, -0.0960254037844386, 503.17410985843367]]"
      ]
     },
     "metadata": {},
     "output_type": "display_data"
    },
    {
     "name": "stdout",
     "output_type": "stream",
     "text": [
      "\n",
      "n = 1000\n"
     ]
    },
    {
     "data": {
      "text/html": [
       "<table><tr><td>P</td><td>P*</td><td>Delta</td><td>sigma</td></tr><tr><td>0.1339745962155614</td><td>0.136</td><td>-0.0020254037844386064</td><td>457.55513250753984</td></tr><tr><td>0.1339745962155614</td><td>0.146</td><td>-0.012025403784438587</td><td>468.26420677964813</td></tr><tr><td>0.1339745962155614</td><td>0.134</td><td>-2.5403784438604582e-05</td><td>439.5231256430186</td></tr><tr><td>0.1339745962155614</td><td>0.132</td><td>0.001974596215561397</td><td>449.64275940559963</td></tr><tr><td>0.1339745962155614</td><td>0.13</td><td>0.003974596215561399</td><td>450.08377194181656</td></tr><tr><td>0.1339745962155614</td><td>0.131</td><td>0.002974596215561398</td><td>443.793484637751</td></tr><tr><td>0.1339745962155614</td><td>0.134</td><td>-2.5403784438604582e-05</td><td>446.178440048405</td></tr><tr><td>0.1339745962155614</td><td>0.147</td><td>-0.013025403784438588</td><td>453.91258354842944</td></tr><tr><td>0.1339745962155614</td><td>0.147</td><td>-0.013025403784438588</td><td>459.1872617445181</td></tr><tr><td>0.1339745962155614</td><td>0.131</td><td>0.002974596215561398</td><td>443.7954772853421</td></tr></table>"
      ],
      "text/plain": [
       "[['P', 'P*', 'Delta', 'sigma'],\n",
       " [0.1339745962155614, 0.136, -0.0020254037844386064, 457.55513250753984],\n",
       " [0.1339745962155614, 0.146, -0.012025403784438587, 468.26420677964813],\n",
       " [0.1339745962155614, 0.134, -2.5403784438604582e-05, 439.5231256430186],\n",
       " [0.1339745962155614, 0.132, 0.001974596215561397, 449.64275940559963],\n",
       " [0.1339745962155614, 0.13, 0.003974596215561399, 450.08377194181656],\n",
       " [0.1339745962155614, 0.131, 0.002974596215561398, 443.793484637751],\n",
       " [0.1339745962155614, 0.134, -2.5403784438604582e-05, 446.178440048405],\n",
       " [0.1339745962155614, 0.147, -0.013025403784438588, 453.91258354842944],\n",
       " [0.1339745962155614, 0.147, -0.013025403784438588, 459.1872617445181],\n",
       " [0.1339745962155614, 0.131, 0.002974596215561398, 443.7954772853421]]"
      ]
     },
     "metadata": {},
     "output_type": "display_data"
    },
    {
     "name": "stdout",
     "output_type": "stream",
     "text": [
      "\n",
      "n = 1000000\n"
     ]
    },
    {
     "data": {
      "text/html": [
       "<table><tr><td>P</td><td>P*</td><td>Delta</td><td>sigma</td></tr><tr><td>0.1339745962155614</td><td>0.133997</td><td>-2.240378443860158e-05</td><td>446.5550829099709</td></tr><tr><td>0.1339745962155614</td><td>0.133813</td><td>0.0001615962155614159</td><td>446.31057498957233</td></tr><tr><td>0.1339745962155614</td><td>0.134036</td><td>-6.140378443858507e-05</td><td>446.3257342468082</td></tr><tr><td>0.1339745962155614</td><td>0.133878</td><td>9.65962155614064e-05</td><td>446.4599170176706</td></tr><tr><td>0.1339745962155614</td><td>0.134163</td><td>-0.00018840378443860106</td><td>446.56016885746914</td></tr><tr><td>0.1339745962155614</td><td>0.133982</td><td>-7.40378443858658e-06</td><td>446.32140356286845</td></tr><tr><td>0.1339745962155614</td><td>0.133774</td><td>0.0002005962155613994</td><td>446.2863621448668</td></tr><tr><td>0.1339745962155614</td><td>0.134068</td><td>-9.340378443858932e-05</td><td>446.530487213102</td></tr><tr><td>0.1339745962155614</td><td>0.134267</td><td>-0.00029240378443859405</td><td>446.63283769622024</td></tr><tr><td>0.1339745962155614</td><td>0.133427</td><td>0.0005475962155614134</td><td>445.8420670199828</td></tr></table>"
      ],
      "text/plain": [
       "[['P', 'P*', 'Delta', 'sigma'],\n",
       " [0.1339745962155614, 0.133997, -2.240378443860158e-05, 446.5550829099709],\n",
       " [0.1339745962155614, 0.133813, 0.0001615962155614159, 446.31057498957233],\n",
       " [0.1339745962155614, 0.134036, -6.140378443858507e-05, 446.3257342468082],\n",
       " [0.1339745962155614, 0.133878, 9.65962155614064e-05, 446.4599170176706],\n",
       " [0.1339745962155614, 0.134163, -0.00018840378443860106, 446.56016885746914],\n",
       " [0.1339745962155614, 0.133982, -7.40378443858658e-06, 446.32140356286845],\n",
       " [0.1339745962155614, 0.133774, 0.0002005962155613994, 446.2863621448668],\n",
       " [0.1339745962155614, 0.134068, -9.340378443858932e-05, 446.530487213102],\n",
       " [0.1339745962155614, 0.134267, -0.00029240378443859405, 446.63283769622024],\n",
       " [0.1339745962155614, 0.133427, 0.0005475962155614134, 445.8420670199828]]"
      ]
     },
     "metadata": {},
     "output_type": "display_data"
    },
    {
     "name": "stdout",
     "output_type": "stream",
     "text": [
      "\n"
     ]
    }
   ],
   "source": [
    "'''Вариант 5.\n",
    "В круге радиуса R проводятся хорды параллельно заданному направлению.\n",
    "Какова вероятность того, что длина наугад взятой хорды не более R,\n",
    "если равновозможны любые положения точек пересечения хорды с диаметром,\n",
    "перпендикулярным выбранному направлению?'''\n",
    "\n",
    "from math import sqrt\n",
    "R = 1000\n",
    "k = 10\n",
    "def draw_chord():\n",
    "    return sqrt(R**2 - random.uniform(0, R)**2) * 2\n",
    "\n",
    "def make_n_attempts(n):\n",
    "    count = 0\n",
    "    attempts = []\n",
    "    for i in range(0, n):\n",
    "        chord = draw_chord()\n",
    "        count += chord <= R\n",
    "        attempts.append(chord)\n",
    "    return count / n, attempts\n",
    "\n",
    "solution = 1 - sqrt(3)/2\n",
    "for j in n:\n",
    "    table = ListTable()\n",
    "    table.append(['P', 'P*', 'Delta', 'sigma'])\n",
    "    for i in range(0, k):\n",
    "        p, attempts = make_n_attempts(j)\n",
    "        table.append([solution, p, solution - p, std_sqrt_deviation(attempts)])\n",
    "        #print(p)\n",
    "        #print(std_sqrt_deviation(attempts))\n",
    "    print('n = {}'.format(j))\n",
    "    display(table)\n",
    "    print('')"
   ]
  },
  {
   "cell_type": "code",
   "execution_count": 387,
   "metadata": {},
   "outputs": [],
   "source": [
    "import numpy as np\n",
    "import matplotlib.pyplot as plt\n",
    "import plotly.plotly as py\n",
    "import random\n",
    "from scipy.stats import skew, kurtosis, variation, moment\n",
    "\n",
    "def shot():\n",
    "    v = random.uniform(0.0,1.0)\n",
    "    if v < 0.5:\n",
    "        return 10\n",
    "    elif v < 0.8:\n",
    "        return 5\n",
    "    else:\n",
    "        return -1\n",
    "    \n",
    "def make_shots():\n",
    "    res = 0\n",
    "    for i in range(0, 3):\n",
    "        res += shot()\n",
    "    return res\n",
    "\n",
    "def make_shots_list(n):\n",
    "    res = []\n",
    "    for i in range(0, n):\n",
    "        res.append(make_shots())\n",
    "    return res\n",
    "\n",
    "def cdf(shots):\n",
    "    data = np.cumsum(np.histogram(shots, bins=auto, density=True))\n",
    "        \n",
    "shots = make_shots_list(100000)"
   ]
  },
  {
   "cell_type": "code",
   "execution_count": 388,
   "metadata": {},
   "outputs": [
    {
     "data": {
      "text/html": [
       "<table><tr><td>-3</td><td>3</td><td>8</td><td>9</td><td>14</td><td>15</td><td>19</td><td>20</td><td>25</td><td>30</td></tr><tr><td>0.00804</td><td>0.03591</td><td>0.06168</td><td>0.05367</td><td>0.17935</td><td>0.0271</td><td>0.15064</td><td>0.13496</td><td>0.22569</td><td>0.12296</td></tr></table>"
      ],
      "text/plain": [
       "[[-3, 3, 8, 9, 14, 15, 19, 20, 25, 30],\n",
       " [0.00804,\n",
       "  0.03591,\n",
       "  0.06168,\n",
       "  0.05367,\n",
       "  0.17935,\n",
       "  0.0271,\n",
       "  0.15064,\n",
       "  0.13496,\n",
       "  0.22569,\n",
       "  0.12296]]"
      ]
     },
     "execution_count": 388,
     "metadata": {},
     "output_type": "execute_result"
    }
   ],
   "source": [
    "import collections\n",
    "x_dict = {}\n",
    "for i in shots:\n",
    "    if i not in x_dict:\n",
    "        x_dict[i] = 1\n",
    "    else:\n",
    "        x_dict[i] += 1    \n",
    "x_dict = collections.OrderedDict(sorted(x_dict.items()))\n",
    "x_table = ListTable()\n",
    "x_table.append([])\n",
    "x_table.append([])\n",
    "n = len(shots)\n",
    "for i, k in x_dict.items():\n",
    "    x_table[0].append(i)\n",
    "    x_table[1].append(k / n)\n",
    "x_table"
   ]
  },
  {
   "cell_type": "code",
   "execution_count": 389,
   "metadata": {},
   "outputs": [
    {
     "data": {
      "text/plain": [
       "[<matplotlib.lines.Line2D at 0x7f16b41bc4e0>]"
      ]
     },
     "execution_count": 389,
     "metadata": {},
     "output_type": "execute_result"
    },
    {
     "data": {
      "image/png": "[encoded data removed]",
      "text/plain": [
       "<matplotlib.figure.Figure at 0x7f16b2d47fd0>"
      ]
     },
     "metadata": {},
     "output_type": "display_data"
    }
   ],
   "source": [
    "plt.plot(x_table[0], x_table[1])"
   ]
  },
  {
   "cell_type": "code",
   "execution_count": 390,
   "metadata": {},
   "outputs": [
    {
     "data": {
      "image/png": "[encoded data removed]",
      "text/plain": [
       "<matplotlib.figure.Figure at 0x7f16b638b358>"
      ]
     },
     "metadata": {},
     "output_type": "display_data"
    }
   ],
   "source": [
    "def histogram(shots):\n",
    "    return plt.hist(shots, bins='auto')\n",
    "\n",
    "a,b,c = histogram(shots)"
   ]
  },
  {
   "cell_type": "code",
   "execution_count": 391,
   "metadata": {},
   "outputs": [
    {
     "data": {
      "image/png": "[encoded data removed]",
      "text/plain": [
       "<matplotlib.figure.Figure at 0x7f16b42a2940>"
      ]
     },
     "metadata": {},
     "output_type": "display_data"
    }
   ],
   "source": [
    "def cdf_plot(shots):\n",
    "    plt.hist(shots, normed=True, cumulative=True, label='CDF', histtype='step', range=(-3, 30))\n",
    "cdf_plot(shots)"
   ]
  },
  {
   "cell_type": "code",
   "execution_count": 392,
   "metadata": {},
   "outputs": [
    {
     "name": "stdout",
     "output_type": "stream",
     "text": [
      "18.86989\n"
     ]
    }
   ],
   "source": [
    "print(average(shots))"
   ]
  },
  {
   "cell_type": "code",
   "execution_count": 393,
   "metadata": {},
   "outputs": [
    {
     "name": "stdout",
     "output_type": "stream",
     "text": [
      "53.95298138789998\n"
     ]
    }
   ],
   "source": [
    "print(np.var(shots))"
   ]
  },
  {
   "cell_type": "code",
   "execution_count": 394,
   "metadata": {},
   "outputs": [
    {
     "name": "stdout",
     "output_type": "stream",
     "text": [
      "-0.4012399940452375\n"
     ]
    }
   ],
   "source": [
    "print(skew(shots))"
   ]
  },
  {
   "cell_type": "code",
   "execution_count": 395,
   "metadata": {},
   "outputs": [
    {
     "name": "stdout",
     "output_type": "stream",
     "text": [
      "-0.32035115151338633\n"
     ]
    }
   ],
   "source": [
    "print(kurtosis(shots))"
   ]
  }
 ],
 "metadata": {
  "kernelspec": {
   "display_name": "Python 3",
   "language": "python",
   "name": "python3"
  },
  "language_info": {
   "codemirror_mode": {
    "name": "ipython",
    "version": 3
   },
   "file_extension": ".py",
   "mimetype": "text/x-python",
   "name": "python",
   "nbconvert_exporter": "python",
   "pygments_lexer": "ipython3",
   "version": "3.4.3"
  }
 },
 "nbformat": 4,
 "nbformat_minor": 2
}
